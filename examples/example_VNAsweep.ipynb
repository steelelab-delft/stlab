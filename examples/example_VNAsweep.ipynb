{
 "cells": [
  {
   "cell_type": "markdown",
   "metadata": {},
   "source": [
    "Example for a single VNA sweep"
   ]
  },
  {
   "cell_type": "code",
   "execution_count": null,
   "metadata": {},
   "outputs": [],
   "source": [
    "import stlab\n",
    "\n",
    "pna = stlab.adi(addr='TCPIP::192.168.1.105::INSTR')\n",
    "\n",
    "# initialize VNA\n",
    "pna.ClearAll()\n",
    "pna.AddTraces('S21')\n",
    "pna.SetRange(4e9, 8e9)\n",
    "pna.SetIFBW(1000.)\n",
    "pna.SetPower(-25.6)\n",
    "pna.SetPoints(2001)\n",
    "\n",
    "# create datafile\n",
    "myfile = stlab.newfile(prefix, idstring, autoindex=True)\n",
    "\n",
    "# trigger VNA measurement\n",
    "data = pna.MeasureScreen_pd()\n",
    "\n",
    "# add more data\n",
    "data[\"IFBW (Hz)\"] = pna.GetIFBW()\n",
    "data[\"Points ()\"] = pna.GetPoints()\n",
    "data[\"AuxFrequency (Hz)\"] = 9432.123e3\n",
    "\n",
    "# write to file\n",
    "stlab.saveframe(myfile, data)"
   ]
  }
 ],
 "metadata": {
  "kernelspec": {
   "display_name": "Python 3",
   "language": "python",
   "name": "python3"
  },
  "language_info": {
   "codemirror_mode": {
    "name": "ipython",
    "version": 3
   },
   "file_extension": ".py",
   "mimetype": "text/x-python",
   "name": "python",
   "nbconvert_exporter": "python",
   "pygments_lexer": "ipython3",
   "version": "3.7.3"
  },
  "toc": {
   "base_numbering": 1,
   "nav_menu": {},
   "number_sections": true,
   "sideBar": true,
   "skip_h1_title": false,
   "title_cell": "Table of Contents",
   "title_sidebar": "Contents",
   "toc_cell": false,
   "toc_position": {},
   "toc_section_display": true,
   "toc_window_display": false
  }
 },
 "nbformat": 4,
 "nbformat_minor": 2
}
