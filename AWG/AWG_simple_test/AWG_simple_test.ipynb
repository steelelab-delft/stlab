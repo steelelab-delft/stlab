{
 "cells": [
  {
   "cell_type": "code",
   "execution_count": 1,
   "metadata": {
    "scrolled": false
   },
   "outputs": [
    {
     "name": "stdout",
     "output_type": "stream",
     "text": [
      "c:\\libs\\pycqed_py3\\data\n",
      "Data directory set to: c:\\libs\\pycqed_py3\\data\n",
      "c:\\libs\\pycqed_py3\\data\n",
      "Connected to: Agilent Technologies N5183B (serial:MY53271678, firmware:B.01.60) in 0.06s\n",
      "Connected to: SONY/TEK AWG520 (serial:0, firmware:SCPI:95.0 OS:1.0 USR:1.3a) in 0.15s\n"
     ]
    },
    {
     "name": "stderr",
     "output_type": "stream",
     "text": [
      "C:\\ProgramData\\Anaconda3\\lib\\site-packages\\pyvisa\\resources\\messagebased.py:568: FutureWarning:\n",
      "\n",
      "ask is deprecated and will be removed in 1.10, use query instead.\n",
      "\n",
      "c:\\libs\\qcodes\\qcodes\\instrument\\parameter.py:247: UserWarning:\n",
      "\n",
      "Wrapping get method, original get method will not be directly accessible. It is recommended to define get_raw in your subclass instead.\n",
      "\n",
      "Snapshot: Could not update parameter: clock_source on ATS\n",
      "Snapshot: Could not update parameter: sample_rate on ATS\n",
      "Snapshot: Could not update parameter: clock_edge on ATS\n",
      "Snapshot: Could not update parameter: decimation on ATS\n",
      "Snapshot: Could not update parameter: coupling1 on ATS\n",
      "Snapshot: Could not update parameter: channel_range1 on ATS\n",
      "Snapshot: Could not update parameter: impedance1 on ATS\n",
      "Snapshot: Could not update parameter: bwlimit1 on ATS\n",
      "Snapshot: Could not update parameter: coupling2 on ATS\n",
      "Snapshot: Could not update parameter: channel_range2 on ATS\n",
      "Snapshot: Could not update parameter: impedance2 on ATS\n",
      "Snapshot: Could not update parameter: bwlimit2 on ATS\n",
      "Snapshot: Could not update parameter: trigger_operation on ATS\n",
      "Snapshot: Could not update parameter: trigger_engine1 on ATS\n",
      "Snapshot: Could not update parameter: trigger_source1 on ATS\n",
      "Snapshot: Could not update parameter: trigger_slope1 on ATS\n",
      "Snapshot: Could not update parameter: trigger_level1 on ATS\n",
      "Snapshot: Could not update parameter: trigger_engine2 on ATS\n",
      "Snapshot: Could not update parameter: trigger_source2 on ATS\n",
      "Snapshot: Could not update parameter: trigger_slope2 on ATS\n",
      "Snapshot: Could not update parameter: trigger_level2 on ATS\n",
      "Snapshot: Could not update parameter: external_trigger_coupling on ATS\n",
      "Snapshot: Could not update parameter: external_trigger_range on ATS\n",
      "Snapshot: Could not update parameter: trigger_delay on ATS\n",
      "Snapshot: Could not update parameter: timeout_ticks on ATS\n",
      "Snapshot: Could not update parameter: mode on ATS\n",
      "Snapshot: Could not update parameter: samples_per_record on ATS\n",
      "Snapshot: Could not update parameter: records_per_buffer on ATS\n",
      "Snapshot: Could not update parameter: buffers_per_acquisition on ATS\n",
      "Snapshot: Could not update parameter: channel_selection on ATS\n",
      "Snapshot: Could not update parameter: transfer_offset on ATS\n",
      "Snapshot: Could not update parameter: external_startcapture on ATS\n",
      "Snapshot: Could not update parameter: enable_record_headers on ATS\n",
      "Snapshot: Could not update parameter: alloc_buffers on ATS\n",
      "Snapshot: Could not update parameter: fifo_only_streaming on ATS\n",
      "Snapshot: Could not update parameter: interleave_samples on ATS\n",
      "Snapshot: Could not update parameter: get_processed_data on ATS\n",
      "Snapshot: Could not update parameter: allocated_buffers on ATS\n",
      "Snapshot: Could not update parameter: buffer_timeout on ATS\n",
      "Snapshot: Could not update parameter: acquisition on ATS_controller\n",
      "f_RO_mod between RF and LO is not set correctly\n",
      "\tf_RO_mod = 10000000.0, LO_freq = 4990000000.0, RF_freq = 4990000000.0\n",
      "Heterodyne frequency does not match RF frequency\n",
      "f_RO_mod between RF and LO is not set correctly\n",
      "\tf_RO_mod = 10000000.0, LO_freq = 4990000000.0, RF_freq = 4990000000.0\n"
     ]
    },
    {
     "name": "stdout",
     "output_type": "stream",
     "text": [
      "controller initialized\n"
     ]
    }
   ],
   "source": [
    "from Initialization import *"
   ]
  },
  {
   "cell_type": "code",
   "execution_count": 2,
   "metadata": {},
   "outputs": [
    {
     "data": {
      "text/plain": [
       "{'RFLO': <N51x1: RFLO>,\n",
       " 'AWG': <Tektronix_AWG520: AWG>,\n",
       " 'ATS': <AlazarTech_ATS9870: ATS>,\n",
       " 'ATS_controller': <Demodulation_AcquisitionController: ATS_controller>,\n",
       " 'HS': <HeterodyneInstrument: HS>,\n",
       " 'MC': <MeasurementControl: MC>}"
      ]
     },
     "execution_count": 2,
     "metadata": {},
     "output_type": "execute_result"
    }
   ],
   "source": [
    "station.components"
   ]
  },
  {
   "cell_type": "code",
   "execution_count": 3,
   "metadata": {},
   "outputs": [
    {
     "data": {
      "text/plain": [
       "<Tektronix_AWG520: AWG>"
      ]
     },
     "execution_count": 3,
     "metadata": {},
     "output_type": "execute_result"
    }
   ],
   "source": [
    "station.AWG"
   ]
  },
  {
   "cell_type": "code",
   "execution_count": 4,
   "metadata": {},
   "outputs": [
    {
     "ename": "NameError",
     "evalue": "name 'SPEC' is not defined",
     "output_type": "error",
     "traceback": [
      "\u001b[1;31m---------------------------------------------------------------------------\u001b[0m",
      "\u001b[1;31mNameError\u001b[0m                                 Traceback (most recent call last)",
      "\u001b[1;32m<ipython-input-4-d5b2b2dc71e7>\u001b[0m in \u001b[0;36m<module>\u001b[1;34m()\u001b[0m\n\u001b[1;32m----> 1\u001b[1;33m \u001b[0mSPEC\u001b[0m\u001b[1;33m.\u001b[0m\u001b[0mpower\u001b[0m\u001b[1;33m(\u001b[0m\u001b[1;33m)\u001b[0m\u001b[1;33m\u001b[0m\u001b[0m\n\u001b[0m",
      "\u001b[1;31mNameError\u001b[0m: name 'SPEC' is not defined"
     ]
    }
   ],
   "source": [
    "SPEC.power()"
   ]
  },
  {
   "cell_type": "code",
   "execution_count": 5,
   "metadata": {},
   "outputs": [],
   "source": [
    "RFLO.frequency(5.904e9+50e6)\n",
    "RFLO.power(16)\n",
    "RFLO.on()"
   ]
  },
  {
   "cell_type": "code",
   "execution_count": 6,
   "metadata": {},
   "outputs": [],
   "source": [
    "SPEC.power(0)\n",
    "SPEC.IQ_state('On')  \n",
    "SPEC.frequency(4000e6)\n",
    "SPEC.on()"
   ]
  },
  {
   "cell_type": "code",
   "execution_count": 7,
   "metadata": {},
   "outputs": [],
   "source": [
    "SPEC.off()"
   ]
  },
  {
   "cell_type": "code",
   "execution_count": null,
   "metadata": {},
   "outputs": [],
   "source": [
    "ATS.config(clock_source='EXTERNAL_CLOCK_10_MHz_REF',\n",
    "                sample_rate='1GHz_REFERENCE_CLOCK',\n",
    "                clock_edge='CLOCK_EDGE_RISING',\n",
    "                decimation=0,\n",
    "                coupling=['DC','DC'],\n",
    "                channel_range=[0.1,0.1],\n",
    "                impedance=[50,50],\n",
    "                bwlimit=['DISABLED','DISABLED'],\n",
    "                trigger_operation='TRIG_ENGINE_OP_J',\n",
    "                trigger_engine1='TRIG_ENGINE_J',\n",
    "                trigger_source1='EXTERNAL',\n",
    "                trigger_slope1='TRIG_SLOPE_POSITIVE',\n",
    "                trigger_level1=128,\n",
    "                trigger_engine2='TRIG_ENGINE_K',\n",
    "                trigger_source2='DISABLE',\n",
    "                trigger_slope2='TRIG_SLOPE_POSITIVE',\n",
    "                trigger_level2=128,\n",
    "                external_trigger_coupling='AC',\n",
    "                external_trigger_range='ETR_5V',\n",
    "                trigger_delay=0,\n",
    "                timeout_ticks=0\n",
    ")"
   ]
  },
  {
   "cell_type": "code",
   "execution_count": 5,
   "metadata": {},
   "outputs": [],
   "source": [
    "ATS.config(clock_source='INTERNAL_CLOCK',\n",
    "                sample_rate=1e9,\n",
    "                clock_edge='CLOCK_EDGE_RISING',\n",
    "                decimation=0,\n",
    "                coupling=['DC','DC'],\n",
    "                channel_range=[0.1,0.1],\n",
    "                impedance=[50,50],   \n",
    "                bwlimit=['DISABLED','DISABLED'],\n",
    "                trigger_operation='TRIG_ENGINE_OP_J',\n",
    "                trigger_engine1='TRIG_ENGINE_J',\n",
    "                trigger_source1='EXTERNAL',\n",
    "                trigger_slope1='TRIG_SLOPE_POSITIVE',\n",
    "                trigger_level1=128,\n",
    "                trigger_engine2='TRIG_ENGINE_K',\n",
    "                trigger_source2='DISABLE',\n",
    "                trigger_slope2='TRIG_SLOPE_POSITIVE',\n",
    "                trigger_level2=128,\n",
    "                external_trigger_coupling='AC',\n",
    "                external_trigger_range='ETR_5V',\n",
    "                trigger_delay=0,\n",
    "                timeout_ticks=0\n",
    ")"
   ]
  },
  {
   "cell_type": "code",
   "execution_count": 6,
   "metadata": {},
   "outputs": [],
   "source": [
    "# configure the ATS controller\n",
    "ATS_controller.update_acquisitionkwargs(#mode='NPT',\n",
    "                 samples_per_record=4096*1,\n",
    "                 records_per_buffer=8000,#70, segmments\n",
    "                 buffers_per_acquisition=5,\n",
    "                 channel_selection='AB',\n",
    "                 transfer_offset=0,\n",
    "                 external_startcapture='ENABLED',\n",
    "                 enable_record_headers='DISABLED',\n",
    "                 alloc_buffers='DISABLED',\n",
    "                 fifo_only_streaming='DISABLED',\n",
    "                 interleave_samples='DISABLED',\n",
    "                 get_processed_data='DISABLED',\n",
    "                 allocated_buffers=5,  \n",
    "                 buffer_timeout=5000,\n",
    ")\n"
   ]
  },
  {
   "cell_type": "code",
   "execution_count": 8,
   "metadata": {},
   "outputs": [],
   "source": [
    "AWG.start()"
   ]
  },
  {
   "cell_type": "code",
   "execution_count": 7,
   "metadata": {},
   "outputs": [],
   "source": [
    "AWG.stop()"
   ]
  },
  {
   "cell_type": "code",
   "execution_count": 7,
   "metadata": {},
   "outputs": [],
   "source": [
    "def ATS_homodyne_acquisition(integration_start, integration_time):\n",
    "    \n",
    "    integration_end = integration_start + integration_time\n",
    "    ATS.external_trigger_coupling._set_updated()\n",
    "    ATS.external_trigger_range._set_updated()\n",
    "    \n",
    "    ATS_controller.pre_acquire()\n",
    "    blub = ATS_controller.do_acquisition()\n",
    "    ATS_controller.post_acquire()\n",
    "\n",
    "    buffer = ATS_controller.buffer\n",
    "    reshaped_buffer = buffer.reshape(2, ATS.records_per_buffer(), ATS.samples_per_record())/ATS.allocated_buffers()\n",
    "\n",
    "#     print(reshaped_buffer.flatten()[np.argsort(reshaped_buffer.flatten())[-50:]])\n",
    "#     print(reshaped_buffer.flatten()[np.argsort(reshaped_buffer.flatten())[:50]])\n",
    "\n",
    "    average_record_I = np.average(reshaped_buffer[0,:,:], axis = 0)-128.\n",
    "    average_record_Q = np.average(reshaped_buffer[1,:,:], axis = 0)-128.\n",
    "    \n",
    "    offset_I = np.average(average_record_I[3000:4000])\n",
    "    offset_Q = np.average(average_record_Q[3000:4000])\n",
    "    \n",
    "#     range_I = np.max(average_record_I[integration_start:integration_end]) \\\n",
    "#              -np.min(average_record_I[integration_start:integration_end])\n",
    "   \n",
    "#     range_Q = np.max(average_record_Q[integration_start:integration_end]) \\\n",
    "#              -np.min(average_record_Q[integration_start:integration_end])\n",
    "    \n",
    "#     integrated_output_I = np.average(average_record_I[integration_start:integration_end])#/range_I\n",
    "#     integrated_output_Q = np.average(average_record_Q[integration_start:integration_end])#/range_Q\n",
    "    \n",
    "    \n",
    "    integrated_output_I = np.average(average_record_I[integration_start:integration_end]-offset_I)#/range_I\n",
    "    integrated_output_Q = np.average(average_record_Q[integration_start:integration_end]-offset_Q)#/range_Q\n",
    "    \n",
    "    return [integrated_output_I, integrated_output_Q, offset_I, offset_Q]"
   ]
  },
  {
   "cell_type": "code",
   "execution_count": null,
   "metadata": {},
   "outputs": [],
   "source": [
    "ATS_homodyne_acquisition(700,1500)"
   ]
  },
  {
   "cell_type": "code",
   "execution_count": null,
   "metadata": {},
   "outputs": [],
   "source": [
    "ATS_homodyne_acquisition(3000,100)"
   ]
  },
  {
   "cell_type": "code",
   "execution_count": null,
   "metadata": {},
   "outputs": [],
   "source": [
    "%matplotlib inline"
   ]
  },
  {
   "cell_type": "code",
   "execution_count": 2,
   "metadata": {},
   "outputs": [],
   "source": [
    "AWG.set_sequence('pulsed_spec_sequence_FILE.seq')"
   ]
  },
  {
   "cell_type": "code",
   "execution_count": 8,
   "metadata": {},
   "outputs": [],
   "source": [
    "AWG.set_sequence('rabi_sequence_FILE.seq')"
   ]
  },
  {
   "cell_type": "code",
   "execution_count": 14,
   "metadata": {},
   "outputs": [],
   "source": [
    "AWG.set_sequence('test_multielements_FILE.seq')"
   ]
  },
  {
   "cell_type": "code",
   "execution_count": 10,
   "metadata": {},
   "outputs": [],
   "source": [
    "AWG.set_sequence('max_length_test_80us_FILE.seq')"
   ]
  },
  {
   "cell_type": "code",
   "execution_count": 9,
   "metadata": {},
   "outputs": [],
   "source": [
    "AWG.set_sequence('max_length_test_100us_FILE.seq')"
   ]
  },
  {
   "cell_type": "code",
   "execution_count": 8,
   "metadata": {},
   "outputs": [
    {
     "data": {
      "text/plain": [
       "'On'"
      ]
     },
     "execution_count": 8,
     "metadata": {},
     "output_type": "execute_result"
    }
   ],
   "source": [
    "SPEC.status()"
   ]
  },
  {
   "cell_type": "markdown",
   "metadata": {},
   "source": [
    "# Readout signal Homodyned"
   ]
  },
  {
   "cell_type": "code",
   "execution_count": 16,
   "metadata": {
    "scrolled": false
   },
   "outputs": [
    {
     "data": {
      "text/plain": [
       "[1.2030093500000181,\n",
       " 2.5478607999999729,\n",
       " -45.228088600000007,\n",
       " 31.012482700000014]"
      ]
     },
     "execution_count": 16,
     "metadata": {},
     "output_type": "execute_result"
    },
    {
     "data": {
      "image/png": "[encoded data removed]",
      "text/plain": [
       "<Figure size 720x720 with 1 Axes>"
      ]
     },
     "metadata": {},
     "output_type": "display_data"
    }
   ],
   "source": [
    "integration_start=750\n",
    "integration_end=integration_start+1000\n",
    "\n",
    "AWG.ch1_amp(1.0)\n",
    "AWG.ch2_amp(1.0)\n",
    "RFLO.frequency(4.101e9)\n",
    "# SPEC.frequency(6.901e9+0.05e9)\n",
    "# SPEC.power(10)\n",
    "RFLO.power(19)\n",
    "RFLO.on()\n",
    "# SPEC.off()\n",
    "# SPEC.IQ_state.set('ON')\n",
    "ATS.external_trigger_coupling._set_updated()\n",
    "ATS.external_trigger_range._set_updated()\n",
    "\n",
    "ATS_controller.pre_acquire()\n",
    "blub = ATS_controller.do_acquisition()\n",
    "ATS_controller.post_acquire()\n",
    "\n",
    "buffer = ATS_controller.buffer\n",
    "reshaped_buffer = buffer.reshape(2, ATS.records_per_buffer(),ATS.samples_per_record())/ATS.allocated_buffers()\n",
    "\n",
    "# reshaped_buffer = buffer.reshape(2, ATS.records_per_buffer(), ATS.samples_per_record())/ATS.allocated_buffers()-128.\n",
    "\n",
    "# print(reshaped_buffer.flatten()[np.argsort(reshaped_buffer.flatten())[-50:]])\n",
    "# print(reshaped_buffer.flatten()[np.argsort(reshaped_b uffer.flatten())[:50]])\n",
    "\n",
    "average_record_I = np.average(reshaped_buffer[0,:,:], axis = 0)-128.\n",
    "average_record_Q = np.average(reshaped_buffer[1,:,:], axis = 0)-128.\n",
    "\n",
    "# integrated_output_power = np.average((average_record_I[integration_start:integration_end]\n",
    "#                                      +average_record_Q[integration_start:integration_end])**2)\n",
    "# integrated_output_power = np.average(((average_record_I[integration_start:integration_end])**2\n",
    "#                                      +(average_record_Q[ integration_start:integration_end])**2))**0.5\n",
    "\n",
    "plt.figure(figsize=(10,10))\n",
    "plt.plot(average_record_I)\n",
    "plt.plot(average_record_Q)\n",
    "# plt.plot((average_record_Q**2+average_record_I**2)**0.5)\n",
    "plt.xlim(0,4000)\n",
    "ATS_homodyne_acquisition(700,500)\n",
    "# plt.ylim(-5,-1)"
   ]
  },
  {
   "cell_type": "code",
   "execution_count": null,
   "metadata": {},
   "outputs": [],
   "source": [
    "a=reshaped_buffer\n",
    "a[0][0]"
   ]
  }
 ],
 "metadata": {
  "kernelspec": {
   "display_name": "Python 3",
   "language": "python",
   "name": "python3"
  },
  "language_info": {
   "codemirror_mode": {
    "name": "ipython",
    "version": 3
   },
   "file_extension": ".py",
   "mimetype": "text/x-python",
   "name": "python",
   "nbconvert_exporter": "python",
   "pygments_lexer": "ipython3",
   "version": "3.6.5"
  }
 },
 "nbformat": 4,
 "nbformat_minor": 2
}
