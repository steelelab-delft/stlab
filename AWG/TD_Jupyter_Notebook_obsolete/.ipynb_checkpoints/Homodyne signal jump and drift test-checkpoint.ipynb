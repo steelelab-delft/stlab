{
 "cells": [
  {
   "cell_type": "code",
   "execution_count": null,
   "metadata": {
    "scrolled": false
   },
   "outputs": [],
   "source": [
    "from Initialization import *"
   ]
  },
  {
   "cell_type": "code",
   "execution_count": null,
   "metadata": {},
   "outputs": [],
   "source": [
    "station.components"
   ]
  },
  {
   "cell_type": "code",
   "execution_count": null,
   "metadata": {},
   "outputs": [],
   "source": [
    "station.AWGB"
   ]
  },
  {
   "cell_type": "code",
   "execution_count": null,
   "metadata": {},
   "outputs": [],
   "source": [
    "AWGB.clock_freq(1e+9)"
   ]
  },
  {
   "cell_type": "code",
   "execution_count": null,
   "metadata": {},
   "outputs": [],
   "source": [
    "AWG.start()"
   ]
  },
  {
   "cell_type": "code",
   "execution_count": null,
   "metadata": {},
   "outputs": [],
   "source": [
    "AWG.ch1_amp()\n",
    "AWG.ch2_amp(1.0)"
   ]
  },
  {
   "cell_type": "code",
   "execution_count": null,
   "metadata": {},
   "outputs": [],
   "source": [
    "AWG.set_current_folder_name()"
   ]
  },
  {
   "cell_type": "code",
   "execution_count": null,
   "metadata": {},
   "outputs": [],
   "source": [
    "SPEC.power(0)\n",
    "SPEC.IQ_state('ON')\n",
    "SPEC.frequency(1e8)\n",
    "# SPEC.frequency(6.1565e9-0.05e9)\n",
    "SPEC.on()"
   ]
  },
  {
   "cell_type": "code",
   "execution_count": null,
   "metadata": {},
   "outputs": [],
   "source": [
    "ATS.config(clock_source='EXTERNAL_CLOCK_10_MHz_REF',\n",
    "                sample_rate='1GHz_REFERENCE_CLOCK',\n",
    "                clock_edge='CLOCK_EDGE_RISING',\n",
    "                decimation=0,  \n",
    "                coupling=['DC','DC'],\n",
    "                channel_range=[1.0,1.0],\n",
    "                impedance=[50,50],\n",
    "                bwlimit=['DISABLED','DISABLED'],\n",
    "                trigger_operation='TRIG_ENGINE_OP_J',\n",
    "                trigger_engine1='TRIG_ENGINE_J',\n",
    "                trigger_source1='EXTERNAL',\n",
    "                trigger_slope1='TRIG_SLOPE_POSITIVE',\n",
    "                trigger_level1=128,\n",
    "                trigger_engine2='TRIG_ENGINE_K',\n",
    "                trigger_source2='DISABLE',\n",
    "                trigger_slope2='TRIG_SLOPE_POSITIVE',\n",
    "                trigger_level2=128,\n",
    "                external_trigger_coupling='AC',\n",
    "                external_trigger_range='ETR_5V',\n",
    "                trigger_delay=0,\n",
    "                timeout_ticks=0\n",
    ")"
   ]
  },
  {
   "cell_type": "code",
   "execution_count": null,
   "metadata": {},
   "outputs": [],
   "source": [
    "ATS.config(clock_source='INTERNAL_CLOCK',\n",
    "                sample_rate=1e9,\n",
    "                clock_edge='CLOCK_EDGE_RISING',\n",
    "                decimation=0,\n",
    "                coupling=['DC','DC'],\n",
    "                channel_range=[0.1,0.1],\n",
    "                impedance=[50,50],\n",
    "                bwlimit=['DISABLED','DISABLED'],\n",
    "                trigger_operation='TRIG_ENGINE_OP_J',\n",
    "                trigger_engine1='TRIG_ENGINE_J',\n",
    "                trigger_source1='EXTERNAL',\n",
    "                trigger_slope1='TRIG_SLOPE_POSITIVE',\n",
    "                trigger_level1=128,\n",
    "                trigger_engine2='TRIG_ENGINE_K',\n",
    "                trigger_source2='DISABLE',\n",
    "                trigger_slope2='TRIG_SLOPE_POSITIVE',\n",
    "                trigger_level2=128,\n",
    "                external_trigger_coupling='AC',\n",
    "                external_trigger_range='ETR_5V',\n",
    "                trigger_delay=0,\n",
    "                timeout_ticks=0\n",
    ")"
   ]
  },
  {
   "cell_type": "code",
   "execution_count": null,
   "metadata": {},
   "outputs": [],
   "source": [
    "# configure the ATS controller\n",
    "ATS_controller.update_acquisitionkwargs(#mode='NPT',\n",
    "                 samples_per_record=4096,\n",
    "                 records_per_buffer=4000,#70, segmments\n",
    "                 buffers_per_acquisition=1,\n",
    "                 channel_selection='AB',\n",
    "                 transfer_offset=0,\n",
    "                 external_startcapture='ENABLED',\n",
    "                 enable_record_headers='DISABLED',\n",
    "                 alloc_buffers='DISABLED',\n",
    "                 fifo_only_streaming='DISABLED',\n",
    "                 interleave_samples='DISABLED',\n",
    "                 get_processed_data='DISABLED',\n",
    "                 allocated_buffers=1,  \n",
    "                 buffer_timeout=5000,\n",
    ")\n"
   ]
  },
  {
   "cell_type": "code",
   "execution_count": null,
   "metadata": {},
   "outputs": [],
   "source": [
    "def ATS_homodyne_acquisition(integration_start, integration_time):\n",
    "    \n",
    "    integration_end = integration_start + integration_time\n",
    "    ATS.external_trigger_coupling._set_updated()\n",
    "    ATS.external_trigger_range._set_updated()\n",
    "    \n",
    "    ATS_controller.pre_acquire()\n",
    "    blub = ATS_controller.do_acquisition()\n",
    "    ATS_controller.post_acquire()\n",
    "\n",
    "    buffer = ATS_controller.buffer\n",
    "    reshaped_buffer = buffer.reshape(2, ATS.records_per_buffer(), ATS.samples_per_record())/ATS.allocated_buffers()-128.\n",
    "\n",
    "#     print(reshaped_buffer.flatten()[np.argsort(reshaped_buffer.flatten())[-50:]])\n",
    "#     print(reshaped_buffer.flatten()[np.argsort(reshaped_buffer.flatten())[:50]])\n",
    "\n",
    "    average_record_I = np.average(reshaped_buffer[0,:,:], axis = 0)\n",
    "    average_record_Q = np.average(reshaped_buffer[1,:,:], axis = 0)\n",
    "    \n",
    "    offset_I = np.average(average_record_I[3000:4000])\n",
    "    offset_Q = np.average(average_record_Q[3000:4000])\n",
    "    \n",
    "#     range_I = np.max(average_record_I[integration_start:integration_end]) \\\n",
    "#              -np.min(average_record_I[integration_start:integration_end])\n",
    "   \n",
    "#     range_Q = np.max(average_record_Q[integration_start:integration_end]) \\\n",
    "#              -np.min(average_record_Q[integration_start:integration_end])\n",
    "    \n",
    "#     integrated_output_I = np.average(average_record_I[integration_start:integration_end])#/range_I\n",
    "#     integrated_output_Q = np.average(average_record_Q[integration_start:integration_end])#/range_Q\n",
    "    \n",
    "    \n",
    "    integrated_output_I = np.average(average_record_I[integration_start:integration_end]-offset_I)#/range_I\n",
    "    integrated_output_Q = np.average(average_record_Q[integration_start:integration_end]-offset_Q)#/range_Q\n",
    "    \n",
    "    return [integrated_output_I, integrated_output_Q, offset_I, offset_Q]"
   ]
  },
  {
   "cell_type": "code",
   "execution_count": null,
   "metadata": {},
   "outputs": [],
   "source": [
    "ATS_homodyne_acquisition(710,1010)"
   ]
  },
  {
   "cell_type": "code",
   "execution_count": null,
   "metadata": {},
   "outputs": [],
   "source": [
    "ATS_homodyne_acquisition(3000,100)"
   ]
  },
  {
   "cell_type": "code",
   "execution_count": null,
   "metadata": {},
   "outputs": [],
   "source": [
    "%matplotlib inline"
   ]
  },
  {
   "cell_type": "code",
   "execution_count": null,
   "metadata": {},
   "outputs": [],
   "source": [
    "AWGB.set_sequence('pulsed_spec_sequence_FILE.sep')"
   ]
  },
  {
   "cell_type": "code",
   "execution_count": null,
   "metadata": {},
   "outputs": [],
   "source": [
    "SPEC.status()"
   ]
  },
  {
   "cell_type": "code",
   "execution_count": null,
   "metadata": {
    "scrolled": false
   },
   "outputs": [],
   "source": [
    "integration_start=674\n",
    "integration_end=integration_start+1000\n",
    "\n",
    "AWG.ch1_amp(2.0)\n",
    "AWG.ch2_amp(2.0)\n",
    "RFLO.frequency(6.1565e9)\n",
    "SPEC.frequency(6.1565e9-0.05e9)\n",
    "SPEC.power(20)\n",
    "SPEC.on()\n",
    "RFLO.power(16.0)\n",
    "RFLO.frequency(6.1565e9)\n",
    "RFLO.on()\n",
    "ATS.external_trigger_coupling._set_updated()\n",
    "ATS.external_trigger_range._set_updated()\n",
    "\n",
    "ATS_controller.pre_acquire()\n",
    "blub = ATS_controller.do_acquisition()\n",
    "ATS_controller.post_acquire()\n",
    "\n",
    "buffer = ATS_controller.buffer\n",
    "reshaped_buffer = buffer.reshape(2, ATS.records_per_buffer(), ATS.samples_per_record())/ATS.allocated_buffers()-128.\n",
    "\n",
    "# print(reshaped_buffer.flatten()[np.argsort(reshaped_buffer.flatten())[-50:]])\n",
    "# print(reshaped_buffer.flatten()[np.argsort(reshaped_buffer.flatten())[:50]])\n",
    "\n",
    "average_record_I = np.average(reshaped_buffer[0,:,:], axis = 0)\n",
    "average_record_Q = np.average(reshaped_buffer[1,:,:], axis = 0)\n",
    "\n",
    "# integrated_output_power = np.average((average_record_I[integration_start:integration_end]\n",
    "#                                      +average_record_Q[integration_start:integration_end])**2)\n",
    "# integrated_output_power = np.average(((average_record_I[integration_start:integration_end])**2\n",
    "#                                      +(average_record_Q[integration_start:integration_end])**2))**0.5\n",
    "\n",
    "plt.figure(figsize=(10,10))\n",
    "plt.plot(average_record_I)\n",
    "plt.plot(average_record_Q)\n",
    "\n",
    "plt.xlim(0, 4000)\n",
    "# plt.ylim(-27,-22)\n",
    "ATS_homodyne_acquisition(700,500)"
   ]
  },
  {
   "cell_type": "code",
   "execution_count": null,
   "metadata": {
    "scrolled": false
   },
   "outputs": [],
   "source": [
    "SPEC.off()\n",
    "frequencies = np.linspace(6.157e9-0.01e9, 6.157e9+0.01e9, 101)\n",
    "integrated_output = []\n",
    "for i, frequency in enumerate(frequencies):\n",
    "    RFLO.frequency.set(frequency)\n",
    "    integrated_output.append(ATS_homodyne_acquisition(770,1000))\n",
    "#     print(frequency)\n",
    "    \n",
    "integrated_output = np.array(integrated_output)\n",
    "plt.figure()\n",
    "plt.plot(frequencies, integrated_output[:,0])\n",
    "plt.plot(frequencies, integrated_output[:,1])\n",
    "\n",
    "plt.figure()\n",
    "plt.plot(frequencies, np.sqrt(integrated_output[:,0]**2+integrated_output[:,1]**2))\n"
   ]
  },
  {
   "cell_type": "code",
   "execution_count": null,
   "metadata": {},
   "outputs": [],
   "source": [
    "import datetime\n",
    "import time\n",
    "ts = time.time()\n",
    "st = datetime.datetime.fromtimestamp(ts).strftime('%Y-%m-%d %H:%M:%S')\n",
    "print(st)"
   ]
  },
  {
   "cell_type": "code",
   "execution_count": null,
   "metadata": {
    "scrolled": true
   },
   "outputs": [],
   "source": [
    "steps=30001\n",
    "amps = np.linspace(1,steps,steps)\n",
    "integrated_output = []\n",
    "times=[]\n",
    "SPEC.power(-40)\n",
    "SPEC.IQ_state.set('ON')\n",
    "SPEC.frequency.set(6.1565e9-0.05e9)\n",
    "SPEC.off()\n",
    "RFLO.frequency.set(6.1565e9)\n",
    "RFLO.power(16)\n",
    "RFLO.on()\n",
    "for i, amp in enumerate(amps):\n",
    "    ATS.clear_buffers(   )\n",
    "    ts = time.time()\n",
    "    st = datetime.datetime.fromtimestamp(ts).strftime('%Y-%m-%d %H:%M:%S')\n",
    "    times.append(st)\n",
    "    print(st,ATS_homodyne_acquisition(700,500)[0],ATS_homodyne_acquisition(700,500)[1],ATS_homodyne_acquisition(700,500)[0]**2+ATS_homodyne_acquisition(700,500)[1]**2)\n",
    "    integrated_output.append(ATS_homodyne_acquisition(700,500))\n",
    "     \n",
    "    \n",
    "integrated_output = np.array(integrated_output)\n",
    "# plt.figure()\n",
    "# plt.plot(np.linspace(1,101,101), integrated_output[:,0])\n",
    "# plt.plot(np.linspace(1,101,101), integrated_output[:,2])\n",
    " \n",
    "# plt.figure()\n",
    "# plt.plot(np.linspace(1,101,101), integrated_output[:,1])\n",
    "# plt.plot(np.linspace(1,101,101), integrated_output[:,3])\n",
    "\n",
    "plt.figure()\n",
    "plt.plot(times, np.sqrt(integrated_output[:,0]**2+integrated_output[:,1]**2))\n",
    "\n",
    "plt.figure()\n",
    "plt.plot(times, np.sqrt(integrated_output[:,2]**2+integrated_output[:,3]**2))"
   ]
  },
  {
   "cell_type": "code",
   "execution_count": null,
   "metadata": {},
   "outputs": [],
   "source": [
    "times"
   ]
  },
  {
   "cell_type": "code",
   "execution_count": null,
   "metadata": {
    "scrolled": false
   },
   "outputs": [],
   "source": [
    "steps=1001\n",
    "amps = np.linspace(1,steps,steps)\n",
    "integrated_output = []\n",
    "SPEC.power(-40)\n",
    "SPEC.IQ_state.set('ON')\n",
    "SPEC.frequency.set(6.1565e9-0.05e9)\n",
    "SPEC.off()\n",
    "RFLO.frequency.set(6.1565e9)\n",
    "RFLO.power(16)\n",
    "RFLO.on()\n",
    "for i, amp in enumerate(amps):\n",
    "    ATS.clear_buffers()\n",
    "#     AWG.ch1_amp(amp)\n",
    "#     AWG.ch2_amp(amp)\n",
    "    integrated_output.append(ATS_homodyne_acquisition(700,500))\n",
    "#     print(frequency)\n",
    "    \n",
    "integrated_output = np.array(integrated_output)\n",
    "# plt.figure()\n",
    "# plt.plot(np.linspace(1,101,101), integrated_output[:,0])\n",
    "# plt.plot(np.linspace(1,101,101  ), integrated_output[:,2])\n",
    " \n",
    "# plt.figure()\n",
    "# plt.plot(np.linspace(1,101,101), integrated_output[:,1])\n",
    "# plt.plot(np.linspace(1,101,101), integrated_output[:,3])\n",
    "\n",
    "plt.figure()\n",
    "plt.plot(amps, np.sqrt(integrated_output[:,0]**2+integrated_output[:,1]**2))\n",
    "\n",
    "plt.figure()\n",
    "plt.plot(amps, np.sqrt(integrated_output[:,2]**2+integrated_output[:,3]**2))"
   ]
  },
  {
   "cell_type": "code",
   "execution_count": null,
   "metadata": {},
   "outputs": [],
   "source": [
    "plt.figure()  \n",
    "plt.plot(np.linspace(1,steps,steps), integrated_output[:,0])\n",
    "\n",
    "plt.figure()\n",
    "plt.plot(np.linspace(1,steps,steps), integrated_output[:,1])"
   ]
  },
  {
   "cell_type": "code",
   "execution_count": null,
   "metadata": {},
   "outputs": [],
   "source": [
    "plt.figure()\n",
    "plt.plot(np.linspace(1,steps,steps), integrated_output[:,2])\n",
    "\n",
    "plt.figure()\n",
    "plt.plot(np.linspace(1,steps,steps), integrated_output[:,3])"
   ]
  }
 ],
 "metadata": {
  "kernelspec": {
   "display_name": "Python 3",
   "language": "python",
   "name": "python3"
  },
  "language_info": {
   "codemirror_mode": {
    "name": "ipython",
    "version": 3
   },
   "file_extension": ".py",
   "mimetype": "text/x-python",
   "name": "python",
   "nbconvert_exporter": "python",
   "pygments_lexer": "ipython3",
   "version": "3.6.5"
  }
 },
 "nbformat": 4,
 "nbformat_minor": 2
}
