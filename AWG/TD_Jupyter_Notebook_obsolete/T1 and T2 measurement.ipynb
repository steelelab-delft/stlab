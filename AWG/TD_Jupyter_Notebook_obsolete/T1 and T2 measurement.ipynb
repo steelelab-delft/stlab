{
 "cells": [
  {
   "cell_type": "code",
   "execution_count": 1,
   "metadata": {
    "scrolled": false
   },
   "outputs": [
    {
     "name": "stdout",
     "output_type": "stream",
     "text": [
      "c:\\libs\\pycqed_py3\\data\n",
      "Data directory set to: c:\\libs\\pycqed_py3\\data\n",
      "c:\\libs\\pycqed_py3\\data\n",
      "Connected to: SONY/TEK AWG520 (serial:0, firmware:SCPI:95.0 OS:1.0 USR:1.3a) in 0.09s\n",
      "Connected to: Agilent Technologies N5183B (serial:MY53271678, firmware:B.01.60) in 0.03s\n",
      "Connected to: Rohde&Schwarz SGS100A (serial:1416.0505k02/101645, firmware:3.1.19.15-3.50.124.67) in 0.02s\n"
     ]
    },
    {
     "name": "stderr",
     "output_type": "stream",
     "text": [
      "c:\\libs\\qcodes\\qcodes\\instrument\\parameter.py:247: UserWarning:\n",
      "\n",
      "Wrapping get method, original get method will not be directly accessible. It is recommended to define get_raw in your subclass instead.\n",
      "\n",
      "Snapshot: Could not update parameter: clock_source on ATS\n",
      "Snapshot: Could not update parameter: sample_rate on ATS\n",
      "Snapshot: Could not update parameter: clock_edge on ATS\n",
      "Snapshot: Could not update parameter: decimation on ATS\n",
      "Snapshot: Could not update parameter: coupling1 on ATS\n",
      "Snapshot: Could not update parameter: channel_range1 on ATS\n",
      "Snapshot: Could not update parameter: impedance1 on ATS\n",
      "Snapshot: Could not update parameter: bwlimit1 on ATS\n",
      "Snapshot: Could not update parameter: coupling2 on ATS\n",
      "Snapshot: Could not update parameter: channel_range2 on ATS\n",
      "Snapshot: Could not update parameter: impedance2 on ATS\n",
      "Snapshot: Could not update parameter: bwlimit2 on ATS\n",
      "Snapshot: Could not update parameter: trigger_operation on ATS\n",
      "Snapshot: Could not update parameter: trigger_engine1 on ATS\n",
      "Snapshot: Could not update parameter: trigger_source1 on ATS\n",
      "Snapshot: Could not update parameter: trigger_slope1 on ATS\n",
      "Snapshot: Could not update parameter: trigger_level1 on ATS\n",
      "Snapshot: Could not update parameter: trigger_engine2 on ATS\n",
      "Snapshot: Could not update parameter: trigger_source2 on ATS\n",
      "Snapshot: Could not update parameter: trigger_slope2 on ATS\n",
      "Snapshot: Could not update parameter: trigger_level2 on ATS\n",
      "Snapshot: Could not update parameter: external_trigger_coupling on ATS\n",
      "Snapshot: Could not update parameter: external_trigger_range on ATS\n",
      "Snapshot: Could not update parameter: trigger_delay on ATS\n",
      "Snapshot: Could not update parameter: timeout_ticks on ATS\n",
      "Snapshot: Could not update parameter: mode on ATS\n",
      "Snapshot: Could not update parameter: samples_per_record on ATS\n",
      "Snapshot: Could not update parameter: records_per_buffer on ATS\n",
      "Snapshot: Could not update parameter: buffers_per_acquisition on ATS\n",
      "Snapshot: Could not update parameter: channel_selection on ATS\n",
      "Snapshot: Could not update parameter: transfer_offset on ATS\n",
      "Snapshot: Could not update parameter: external_startcapture on ATS\n",
      "Snapshot: Could not update parameter: enable_record_headers on ATS\n",
      "Snapshot: Could not update parameter: alloc_buffers on ATS\n",
      "Snapshot: Could not update parameter: fifo_only_streaming on ATS\n",
      "Snapshot: Could not update parameter: interleave_samples on ATS\n",
      "Snapshot: Could not update parameter: get_processed_data on ATS\n",
      "Snapshot: Could not update parameter: allocated_buffers on ATS\n",
      "Snapshot: Could not update parameter: buffer_timeout on ATS\n",
      "Snapshot: Could not update parameter: acquisition on ATS_controller_multi_element\n",
      "f_RO_mod between RF and LO is not set correctly\n",
      "\tf_RO_mod = 10000000.0, LO_freq = 4990000000.0, RF_freq = 4990000000.0\n",
      "Heterodyne frequency does not match RF frequency\n",
      "f_RO_mod between RF and LO is not set correctly\n",
      "\tf_RO_mod = 10000000.0, LO_freq = 4990000000.0, RF_freq = 4990000000.0\n"
     ]
    },
    {
     "name": "stdout",
     "output_type": "stream",
     "text": [
      "controller initialized\n"
     ]
    }
   ],
   "source": [
    "from Initialization_multi_element import *"
   ]
  },
  {
   "cell_type": "code",
   "execution_count": 2,
   "metadata": {},
   "outputs": [
    {
     "data": {
      "text/plain": [
       "{'RFLO': <N51x1: RFLO>,\n",
       " 'SPEC': <RohdeSchwarz_SGS100A: SPEC>,\n",
       " 'ATS': <AlazarTech_ATS9870: ATS>,\n",
       " 'ATS_controller_multi_element': <Demodulation_AcquisitionController: ATS_controller_multi_element>,\n",
       " 'HS': <HeterodyneInstrument: HS>,\n",
       " 'MC': <MeasurementControl: MC>}"
      ]
     },
     "execution_count": 2,
     "metadata": {},
     "output_type": "execute_result"
    }
   ],
   "source": [
    "station.components"
   ]
  },
  {
   "cell_type": "code",
   "execution_count": 3,
   "metadata": {},
   "outputs": [],
   "source": [
    "RFLO.on()"
   ]
  },
  {
   "cell_type": "code",
   "execution_count": 13,
   "metadata": {},
   "outputs": [],
   "source": [
    "SPEC.power(-5)\n",
    "SPEC.IQ_state('ON')  \n",
    "SPEC.frequency(6.16e9-0.05e9)\n",
    "SPEC.on()"
   ]
  },
  {
   "cell_type": "code",
   "execution_count": 4,
   "metadata": {},
   "outputs": [],
   "source": [
    "RFLO.power(13.0)\n",
    "RFLO.frequency(6.16e9)"
   ]
  },
  {
   "cell_type": "code",
   "execution_count": 5,
   "metadata": {},
   "outputs": [],
   "source": [
    "ATS.config(clock_source='INTERNAL_CLOCK',\n",
    "                sample_rate=1e9,\n",
    "                clock_edge='CLOCK_EDGE_RISING',\n",
    "                decimation=0,\n",
    "                coupling=['DC','DC'],\n",
    "                channel_range=[0.1,0.1],\n",
    "                impedance=[50,50],\n",
    "                bwlimit=['DISABLED','DISABLED'],\n",
    "                trigger_operation='TRIG_ENGINE_OP_J',\n",
    "                trigger_engine1='TRIG_ENGINE_J',\n",
    "                trigger_source1='EXTERNAL',\n",
    "                trigger_slope1='TRIG_SLOPE_POSITIVE',\n",
    "                trigger_level1=128,\n",
    "                trigger_engine2='TRIG_ENGINE_K',\n",
    "                trigger_source2='DISABLE',\n",
    "                trigger_slope2='TRIG_SLOPE_POSITIVE',\n",
    "                trigger_level2=128,\n",
    "                external_trigger_coupling='AC',\n",
    "                external_trigger_range='ETR_5V',\n",
    "                trigger_delay=0,\n",
    "                timeout_ticks=0\n",
    ")"
   ]
  },
  {
   "cell_type": "code",
   "execution_count": 14,
   "metadata": {},
   "outputs": [],
   "source": [
    "# configure the ATS controller\n",
    "ATS_controller.update_acquisitionkwargs(#mode='NPT',\n",
    "                 samples_per_record=4096,\n",
    "                 records_per_buffer=21*300,#70, segmments\n",
    "                 buffers_per_acquisition=5,\n",
    "                 channel_selection='AB',\n",
    "                 transfer_offset=0,\n",
    "                 external_startcapture='ENABLED',\n",
    "                 enable_record_headers='DISABLED',\n",
    "                 alloc_buffers='DISABLED',\n",
    "                 fifo_only_streaming='DISABLED',\n",
    "                 interleave_samples='DISABLED',\n",
    "                 get_processed_data='DISABLED',\n",
    "                 allocated_buffers=5,  \n",
    "                 buffer_timeout=5000,\n",
    ")\n"
   ]
  },
  {
   "cell_type": "code",
   "execution_count": 6,
   "metadata": {},
   "outputs": [],
   "source": [
    "ATS_controller.awgcontrol(amp=0.2,seq='rabi_sequence_int_scan_FILE.seq')"
   ]
  },
  {
   "cell_type": "code",
   "execution_count": 49,
   "metadata": {},
   "outputs": [],
   "source": [
    "ATS_controller.awgstart()"
   ]
  },
  {
   "cell_type": "code",
   "execution_count": 8,
   "metadata": {},
   "outputs": [],
   "source": [
    "def ATS_homodyne_acquisition_multielements(integration_start, integration_time, Numer_of_elements, Numer_of_avg):\n",
    "\n",
    "    integration_end = integration_start + integration_time\n",
    "    ATS.external_trigger_coupling._set_updated()\n",
    "    ATS.external_trigger_range._set_updated()\n",
    "    \n",
    "    ATS_controller.pre_acquire()\n",
    "    blub = ATS_controller.do_acquisition()\n",
    "    ATS_controller.post_acquire()\n",
    "\n",
    "    buffer = ATS_controller.buffer\n",
    "    reshaped_buffer = buffer.reshape(2, ATS.records_per_buffer() , ATS.samples_per_record())/ATS.allocated_buffers()-128.\n",
    "\n",
    "\n",
    "# print(reshaped_buffer.flatten()[np.argsort(reshaped_buffer.flatten())[-50:]])\n",
    "# print(reshaped_buffer.flatten()[np.argsort(reshaped_buffer.flatten())[:50]])\n",
    "\n",
    "    for i in range(Numer_of_elements):\n",
    "        average_record_I[i] = np.average(reshaped_buffer[0][i::Numer_of_elements], axis = 0)\n",
    "        average_record_Q[i] = np.average(reshaped_buffer[1][i::Numer_of_elements], axis = 0)\n",
    "\n",
    "\n",
    "    offset_I=np.zeros(Numer_of_elements)\n",
    "    offset_Q=np.zeros(Numer_of_elements)\n",
    "    integrated_output_I=np.zeros(Numer_of_elements)\n",
    "    integrated_output_Q=np.zeros(Numer_of_elements)\n",
    "\n",
    "    \n",
    "    for i in range(Numer_of_elements):\n",
    "        offset_I[i] = np.average(average_record_I[i][3000:4000])\n",
    "        offset_Q[i] = np.average(average_record_Q[i][3000:4000])\n",
    "        integrated_output_I[i] = np.average(average_record_I[i][integration_start:integration_end])-offset_I[i]#/range_I\n",
    "        integrated_output_Q[i] = np.average(average_record_Q[i][integration_start:integration_end])-offset_Q[i]#/range_Q\n",
    "      \n",
    "    \n",
    "#     range_I = np.max(average_record_I[integration_start:integration_end]) \\\n",
    "#              -np.min(average_record_I[integration_start:integration_end])\n",
    "   \n",
    "#     range_Q = np.max(average_record_Q[integration_start:integration_end]) \\\n",
    "#              -np.min(average_record_Q[integration_start:integration_end])\n",
    "    \n",
    "    return [integrated_output_I, integrated_output_Q]"
   ]
  },
  {
   "cell_type": "code",
   "execution_count": 9,
   "metadata": {},
   "outputs": [],
   "source": [
    "def ATS_homodyne_acquisition(integration_start, integration_time):\n",
    "    \n",
    "    integration_end = integration_start + integration_time\n",
    "    ATS.external_trigger_coupling._set_updated()\n",
    "    ATS.external_trigger_range._set_updated()\n",
    "    \n",
    "    ATS_controller.pre_acquire()\n",
    "    blub = ATS_controller.do_acquisition()\n",
    "    ATS_controller.post_acquire()\n",
    "\n",
    "    buffer = ATS_controller.buffer\n",
    "    reshaped_buffer = buffer.reshape(2, ATS.records_per_buffer(), ATS.samples_per_record())-128.\n",
    "\n",
    "#     print(reshaped_buffer.flatten()[np.argsort(reshaped_buffer.flatten())[-50:]])\n",
    "#     print(reshaped_buffer.flatten()[np.argsort(reshaped_buffer.flatten())[:50]])\n",
    "\n",
    "    average_record_I = np.average(reshaped_buffer[0,:,:], axis = 0)\n",
    "    average_record_Q = np.average(reshaped_buffer[1,:,:], axis = 0)\n",
    "    \n",
    "    offset_I = np.average(average_record_I[3000:4000])\n",
    "    offset_Q = np.average(average_record_Q[3000:4000])\n",
    "    \n",
    "#     range_I = np.max(average_record_I[integration_start:integration_end]) \\\n",
    "#              -np.min(average_record_I[integration_start:integration_end])\n",
    "   \n",
    "#     range_Q = np.max(average_record_Q[integration_start:integration_end]) \\\n",
    "#              -np.min(average_record_Q[integration_start:integration_end])\n",
    "    \n",
    "    integrated_output_I = np.average(average_record_I[integration_start:integration_end]-offset_I)#/range_I\n",
    "    integrated_output_Q = np.average(average_record_Q[integration_start:integration_end]-offset_Q)#/range_Q\n",
    "    \n",
    "    return [integrated_output_I, integrated_output_Q]"
   ]
  },
  {
   "cell_type": "code",
   "execution_count": 12,
   "metadata": {},
   "outputs": [],
   "source": [
    "ATS_controller.awgcontrol(amp=1.0,seq='rabi_sequence_amp_scan_FILE.seq')"
   ]
  },
  {
   "cell_type": "code",
   "execution_count": 50,
   "metadata": {},
   "outputs": [
    {
     "name": "stdout",
     "output_type": "stream",
     "text": [
      "6.72025533333\n",
      "3.779536\n"
     ]
    },
    {
     "data": {
      "text/plain": [
       "(0, 4000)"
      ]
     },
     "execution_count": 50,
     "metadata": {},
     "output_type": "execute_result"
    },
    {
     "data": {
      "image/png": "[encoded data removed]",
      "text/plain": [
       "<Figure size 720x720 with 1 Axes>"
      ]
     },
     "metadata": {},
     "output_type": "display_data"
    },
    {
     "data": {
      "image/png": "[encoded data removed]",
      "text/plain": [
       "<Figure size 720x720 with 1 Axes>"
      ]
     },
     "metadata": {},
     "output_type": "display_data"
    },
    {
     "data": {
      "image/png": "[encoded data removed]",
      "text/plain": [
       "<Figure size 720x720 with 1 Axes>"
      ]
     },
     "metadata": {},
     "output_type": "display_data"
    }
   ],
   "source": [
    "integration_start=674\n",
    "integration_end=integration_start+1000\n",
    "\n",
    "RFLO.frequency(6.157e9)\n",
    "SPEC.frequency(6.157e9+0.05e9)\n",
    "SPEC.power(0)\n",
    "SPEC.off()\n",
    "ATS.external_trigger_coupling._set_updated()\n",
    "ATS.external_trigger_range._set_updated()\n",
    "RFLO.on()\n",
    "Numer_of_elements = 21\n",
    "Numer_of_avg = 300\n",
    "\n",
    "ATS_controller.pre_acquire()\n",
    "ATS_controller.do_acquisition()\n",
    "ATS_controller.post_acquire()\n",
    "\n",
    "buffer = ATS_controller.buffer\n",
    "reshaped_buffer = buffer.reshape(2, Numer_of_avg, Numer_of_elements , ATS.samples_per_record())/ATS.allocated_buffers()-128.\n",
    "\n",
    "# print(reshaped_buffer.flatten()[np.argsort(reshaped_buffer.flatten())[-50:]])\n",
    "# print(reshaped_buffer.flatten()[np.argsort(reshaped_buffer.flatten())[:50]])\n",
    "\n",
    "offset_I=np.zeros(Numer_of_elements)\n",
    "offset_Q=np.zeros(Numer_of_elements)\n",
    "integrated_output_I=np.zeros(Numer_of_elements)\n",
    "integrated_output_Q=np.zeros(Numer_of_elements)\n",
    "\n",
    "for i in range(Numer_of_elements):\n",
    "    average_record_I = np.average(reshaped_buffer[0][:,:,:], axis = 0)\n",
    "    average_record_Q = np.average(reshaped_buffer[1][:,:,:], axis = 0)\n",
    "\n",
    "    \n",
    "for i in range(Numer_of_elements):\n",
    "    offset_I[i] = np.average(average_record_I[i][3000:4000])\n",
    "    offset_Q[i] = np.average(average_record_Q[i][3000:4000])\n",
    "    integrated_output_I[i] = np.average(average_record_I[i][integration_start:integration_end])-offset_I[i]#/range_I\n",
    "    integrated_output_Q[i] = np.average(average_record_Q[i][integration_start:integration_end])-offset_Q[i]#/range_Q\n",
    "\n",
    "\n",
    "# integrated_output_power = np.average((average_record_I[integration_start:integration_end]\n",
    "#                                      +average_record_Q[integration_start:integration_end])**2)\n",
    "# integrated_output_power = np.average(((average_record_I[integration_start:integration_end])**2\n",
    "#                                      +(average_record_Q[integration_start:integration_end])**2))**0.5\n",
    "\n",
    "print(integrated_output_I[2])\n",
    "print(integrated_output_Q[2])\n",
    "\n",
    "\n",
    "plt.figure(figsize=(10,10))\n",
    "plt.plot(average_record_I[0])\n",
    "plt.plot(average_record_Q[0])\n",
    "plt.xlim(0, 4000)\n",
    "\n",
    "plt.figure(figsize=(10,10))\n",
    "plt.plot(average_record_I[10])\n",
    "plt.plot(average_record_Q[10])\n",
    "plt.xlim(0, 4000)\n",
    "\n",
    "plt.figure(figsize=(10,10))\n",
    "plt.plot(average_record_I[20])\n",
    "plt.plot(average_record_Q[20])\n",
    "plt.xlim(0, 4000)"
   ]
  },
  {
   "cell_type": "markdown",
   "metadata": {},
   "source": [
    "# T1 measurement"
   ]
  },
  {
   "cell_type": "code",
   "execution_count": 157,
   "metadata": {},
   "outputs": [],
   "source": [
    "ATS_controller.awgcontrol(amp=1.2,seq='T1_delay_scan_FILE.seq')"
   ]
  },
  {
   "cell_type": "code",
   "execution_count": 158,
   "metadata": {},
   "outputs": [],
   "source": [
    "ATS_controller.awgstop()"
   ]
  },
  {
   "cell_type": "code",
   "execution_count": null,
   "metadata": {},
   "outputs": [],
   "source": [
    "# time_delay=np.linspace(100e-9,2.1e-6,21)"
   ]
  },
  {
   "cell_type": "code",
   "execution_count": 159,
   "metadata": {
    "scrolled": true
   },
   "outputs": [
    {
     "name": "stdout",
     "output_type": "stream",
     "text": [
      "0\n",
      "1\n",
      "2\n",
      "3\n",
      "4\n",
      "5\n",
      "6\n",
      "7\n",
      "8\n",
      "9\n",
      "10\n",
      "11\n",
      "12\n",
      "13\n",
      "14\n",
      "15\n",
      "16\n",
      "17\n",
      "18\n",
      "19\n",
      "20\n",
      "21\n",
      "22\n",
      "23\n",
      "24\n",
      "25\n",
      "26\n",
      "27\n",
      "28\n",
      "29\n",
      "30\n",
      "31\n",
      "32\n",
      "33\n",
      "34\n",
      "35\n",
      "36\n",
      "37\n",
      "38\n",
      "39\n",
      "40\n",
      "41\n",
      "42\n",
      "43\n",
      "44\n",
      "45\n",
      "46\n",
      "47\n",
      "48\n",
      "49\n",
      "50\n",
      "51\n",
      "52\n",
      "53\n",
      "54\n",
      "55\n",
      "56\n",
      "57\n",
      "58\n",
      "59\n",
      "60\n",
      "61\n",
      "62\n",
      "63\n",
      "64\n",
      "65\n",
      "66\n",
      "67\n",
      "68\n",
      "69\n",
      "70\n",
      "71\n",
      "72\n",
      "73\n",
      "74\n",
      "75\n",
      "76\n",
      "77\n",
      "78\n",
      "79\n",
      "80\n",
      "81\n",
      "82\n",
      "83\n",
      "84\n",
      "85\n",
      "86\n",
      "87\n",
      "88\n",
      "89\n",
      "90\n",
      "91\n",
      "92\n",
      "93\n",
      "94\n",
      "95\n",
      "96\n",
      "97\n",
      "98\n",
      "99\n"
     ]
    }
   ],
   "source": [
    "#5-buffer measurement.2019.03.27.\n",
    "Numer_of_elements = 21\n",
    "Numer_of_avg = 300\n",
    "\n",
    "integration_start=800\n",
    "integration_time=500\n",
    "\n",
    "T1_integrated_output_I = np.zeros((Numer_of_elements))\n",
    "T1_integrated_output_Q = np.zeros((Numer_of_elements))\n",
    "\n",
    "SPEC.power.set(-10.0)\n",
    "SPEC.on()\n",
    "SPEC.IQ_state.set('ON') \n",
    "SPEC.frequency.set(6.7236e9-0.05e9)\n",
    "RFLO.on()\n",
    "RFLO.power(13.0)\n",
    "RFLO.frequency.set(6.15805e9)  \n",
    "length=100\n",
    "\n",
    "for ii in range(0,length):\n",
    "    print(ii)\n",
    "    ATS_Tempo=ATS_homodyne_acquisition_multielements(integration_start,integration_time,Numer_of_elements,Numer_of_avg)\n",
    "    for i in range(0,Numer_of_elements):\n",
    "        T1_integrated_output_I[i]=T1_integrated_output_I[i]+ATS_Tempo[0][i]\n",
    "        T1_integrated_output_Q[i]=T1_integrated_output_Q[i]+ATS_Tempo[1][i]\n",
    "\n",
    "T1_integrated_output_I = T1_integrated_output_I/length\n",
    "T1_integrated_output_Q = T1_integrated_output_Q/length"
   ]
  },
  {
   "cell_type": "code",
   "execution_count": 160,
   "metadata": {
    "scrolled": true
   },
   "outputs": [
    {
     "data": {
      "image/png": "[encoded data removed]",
      "text/plain": [
       "<Figure size 432x288 with 1 Axes>"
      ]
     },
     "metadata": {},
     "output_type": "display_data"
    },
    {
     "data": {
      "image/png": "[encoded data removed]",
      "text/plain": [
       "<Figure size 432x288 with 1 Axes>"
      ]
     },
     "metadata": {},
     "output_type": "display_data"
    }
   ],
   "source": [
    "time_delay=np.linspace(0.1,2.1,21)\n",
    "plt.figure()\n",
    "plt.title('20190327_T1_I')\n",
    "plt.plot(time_delay, T1_integrated_output_I,'bo')\n",
    "plt.savefig('T1_W2-3D_HF_20190327_I.png', dpi=300, bbox_inches='tight')\n",
    "\n",
    "plt.figure()\n",
    "plt.title('20190327_T1_Q')\n",
    "plt.plot(time_delay, T1_integrated_output_Q,'bo')\n",
    "plt.savefig('T1_W2-3D_HF_20190327_Q.png', dpi=300, bbox_inches='tight')"
   ]
  },
  {
   "cell_type": "code",
   "execution_count": 161,
   "metadata": {
    "scrolled": true
   },
   "outputs": [
    {
     "name": "stdout",
     "output_type": "stream",
     "text": [
      "[[Model]]\n",
      "    Model(decay)\n",
      "[[Fit Statistics]]\n",
      "    # fitting method   = leastsq\n",
      "    # function evals   = 21\n",
      "    # data points      = 21\n",
      "    # variables        = 3\n",
      "    chi-square         = 3.7779e-04\n",
      "    reduced chi-square = 2.0989e-05\n",
      "    Akaike info crit   = -223.439340\n",
      "    Bayesian info crit = -220.305773\n",
      "[[Variables]]\n",
      "    amp:     0.43956876 +/- 0.01216720 (2.77%) (init = 0.2)\n",
      "    T1:      0.19464165 +/- 0.00648393 (3.33%) (init = 0.2)\n",
      "    offset: -0.66317252 +/- 0.00126830 (0.19%) (init = 0)\n",
      "[[Correlations]] (unreported correlations are < 0.100)\n",
      "    C(amp, T1)     = -0.828\n",
      "    C(T1, offset)  = -0.483\n",
      "    C(amp, offset) =  0.187\n",
      "\n"
     ]
    },
    {
     "data": {
      "image/png": "[encoded data removed]",
      "text/plain": [
       "<Figure size 432x288 with 1 Axes>"
      ]
     },
     "metadata": {},
     "output_type": "display_data"
    }
   ],
   "source": [
    "from lmfit import Model \n",
    "def decay(x, amp, T1,offset):\n",
    "    return amp*np.exp(-x/T1)+offset\n",
    "\n",
    "f=time_delay\n",
    "f0=np.linspace(0.1,2.1,201)\n",
    "y=T1_integrated_output_Q\n",
    "\n",
    "gmodel = Model(decay)\n",
    "result = gmodel.fit(y,x=f,amp=0.2,T1=0.2,offset=0.0)\n",
    "\n",
    "print(result.fit_report())\n",
    "\n",
    "plt.figure()\n",
    "plt.plot(f, y, 'bo')\n",
    "plt.plot(f0, decay(f0,result.best_values['amp'],result.best_values['T1'],result.best_values['offset']), 'r-')\n",
    "plt.xlim(0, 2.2)\n",
    "plt.title('T1')\n",
    "plt.xlabel('time delay us')\n",
    "plt.ylabel('Homodyne voltage (a.u.)')\n",
    "plt.xticks(np.linspace(0.1,2.1,11))\n",
    "plt.savefig('T1_fit_W2-3D_HF_20190327_Q.png', dpi=300, bbox_inches='tight')"
   ]
  },
  {
   "cell_type": "code",
   "execution_count": 162,
   "metadata": {
    "scrolled": true
   },
   "outputs": [
    {
     "name": "stdout",
     "output_type": "stream",
     "text": [
      "[ 0.1  0.2  0.3  0.4  0.5  0.6  0.7  0.8  0.9  1.   1.1  1.2  1.3  1.4  1.5\n",
      "  1.6  1.7  1.8  1.9  2.   2.1]\n",
      "[ 11.83971133  11.82531419  11.82059733  11.81350304  11.81092652\n",
      "  11.80582591  11.80543691  11.81616901  11.81777731  11.80714917\n",
      "  11.81079787  11.80892171  11.80825387  11.81343959  11.81642877\n",
      "  11.80945333  11.820377    11.81838987  11.81893297  11.80928012\n",
      "  11.81114825]\n",
      "[-0.40185586 -0.50093189 -0.57527735 -0.60034016 -0.62938402 -0.64573383\n",
      " -0.65594455 -0.65850099 -0.6558976  -0.66226876 -0.66570035 -0.66091453\n",
      " -0.66014415 -0.66517034 -0.65677915 -0.66494715 -0.67090964 -0.66261083\n",
      " -0.66115583 -0.65401672 -0.66361583]\n"
     ]
    }
   ],
   "source": [
    "print(time_delay)\n",
    "print(T1_integrated_output_I)\n",
    "print(T1_integrated_output_Q)"
   ]
  },
  {
   "cell_type": "code",
   "execution_count": 163,
   "metadata": {
    "scrolled": true
   },
   "outputs": [
    {
     "name": "stdout",
     "output_type": "stream",
     "text": [
      "0\n",
      "1\n",
      "2\n",
      "3\n",
      "4\n",
      "5\n",
      "6\n",
      "7\n",
      "8\n",
      "9\n",
      "10\n",
      "11\n",
      "12\n",
      "13\n",
      "14\n",
      "15\n",
      "16\n",
      "17\n",
      "18\n",
      "19\n",
      "20\n",
      "21\n",
      "22\n",
      "23\n",
      "24\n",
      "25\n",
      "26\n",
      "27\n",
      "28\n",
      "29\n",
      "30\n",
      "31\n",
      "32\n",
      "33\n",
      "34\n",
      "35\n",
      "36\n",
      "37\n",
      "38\n",
      "39\n",
      "40\n",
      "41\n",
      "42\n",
      "43\n",
      "44\n",
      "45\n",
      "46\n",
      "47\n",
      "48\n",
      "49\n",
      "50\n",
      "51\n",
      "52\n",
      "53\n",
      "54\n",
      "55\n",
      "56\n",
      "57\n",
      "58\n",
      "59\n",
      "60\n",
      "61\n",
      "62\n",
      "63\n",
      "64\n",
      "65\n",
      "66\n",
      "67\n",
      "68\n",
      "69\n",
      "70\n",
      "71\n",
      "72\n",
      "73\n",
      "74\n",
      "75\n",
      "76\n",
      "77\n",
      "78\n",
      "79\n",
      "80\n",
      "81\n",
      "82\n",
      "83\n",
      "84\n",
      "85\n",
      "86\n",
      "87\n",
      "88\n",
      "89\n",
      "90\n",
      "91\n",
      "92\n",
      "93\n",
      "94\n",
      "95\n",
      "96\n",
      "97\n",
      "98\n",
      "99\n",
      "100\n",
      "101\n",
      "102\n",
      "103\n",
      "104\n",
      "105\n",
      "106\n",
      "107\n",
      "108\n",
      "109\n",
      "110\n",
      "111\n",
      "112\n",
      "113\n",
      "114\n",
      "115\n",
      "116\n",
      "117\n",
      "118\n",
      "119\n",
      "120\n",
      "121\n",
      "122\n",
      "123\n",
      "124\n",
      "125\n",
      "126\n",
      "127\n",
      "128\n",
      "129\n",
      "130\n",
      "131\n",
      "132\n",
      "133\n",
      "134\n",
      "135\n",
      "136\n",
      "137\n",
      "138\n",
      "139\n",
      "140\n",
      "141\n",
      "142\n",
      "143\n",
      "144\n",
      "145\n",
      "146\n",
      "147\n",
      "148\n",
      "149\n",
      "150\n",
      "151\n",
      "152\n",
      "153\n",
      "154\n",
      "155\n",
      "156\n",
      "157\n",
      "158\n",
      "159\n",
      "160\n",
      "161\n",
      "162\n",
      "163\n",
      "164\n",
      "165\n",
      "166\n",
      "167\n",
      "168\n",
      "169\n",
      "170\n",
      "171\n",
      "172\n",
      "173\n",
      "174\n",
      "175\n",
      "176\n",
      "177\n",
      "178\n",
      "179\n",
      "180\n",
      "181\n",
      "182\n",
      "183\n",
      "184\n",
      "185\n",
      "186\n",
      "187\n",
      "188\n",
      "189\n",
      "190\n",
      "191\n",
      "192\n",
      "193\n",
      "194\n",
      "195\n",
      "196\n",
      "197\n",
      "198\n",
      "199\n"
     ]
    }
   ],
   "source": [
    "#5-buffer measurement.2019.03.27.\n",
    "Numer_of_elements = 21\n",
    "Numer_of_avg = 300\n",
    "\n",
    "integration_start=800\n",
    "integration_time=500\n",
    "\n",
    "T1_integrated_output_I2 = np.zeros((Numer_of_elements))\n",
    "T1_integrated_output_Q2 = np.zeros((Numer_of_elements))\n",
    "\n",
    "SPEC.power.set(-10.0)\n",
    "SPEC.on()\n",
    "SPEC.IQ_state.set('ON') \n",
    "SPEC.frequency.set(6.7236e9-0.05e9)\n",
    "RFLO.on()\n",
    "RFLO.power(13.0)\n",
    "RFLO.frequency.set(6.15805e9)  \n",
    "length=200\n",
    "\n",
    "for ii in range(0,length):\n",
    "    print(ii)\n",
    "    ATS_Tempo=ATS_homodyne_acquisition_multielements(integration_start,integration_time,Numer_of_elements,Numer_of_avg)\n",
    "    for i in range(0,Numer_of_elements):\n",
    "        T1_integrated_output_I2[i]=T1_integrated_output_I2[i]+ATS_Tempo[0][i]\n",
    "        T1_integrated_output_Q2[i]=T1_integrated_output_Q2[i]+ATS_Tempo[1][i]\n",
    "\n",
    "T1_integrated_output_I2 = T1_integrated_output_I2/length\n",
    "T1_integrated_output_Q2 = T1_integrated_output_Q2/length"
   ]
  },
  {
   "cell_type": "code",
   "execution_count": 164,
   "metadata": {
    "scrolled": true
   },
   "outputs": [
    {
     "data": {
      "image/png": "[encoded data removed]",
      "text/plain": [
       "<Figure size 432x288 with 1 Axes>"
      ]
     },
     "metadata": {},
     "output_type": "display_data"
    },
    {
     "data": {
      "image/png": "[encoded data removed]",
      "text/plain": [
       "<Figure size 432x288 with 1 Axes>"
      ]
     },
     "metadata": {},
     "output_type": "display_data"
    }
   ],
   "source": [
    "time_delay=np.linspace(0.1,2.1,21)\n",
    "plt.figure()\n",
    "plt.title('20190327_T1_I2')\n",
    "plt.plot(time_delay, T1_integrated_output_I2,'bo')\n",
    "plt.savefig('T1_W2-3D_HF_20190327_I2.png', dpi=300, bbox_inches='tight')\n",
    "\n",
    "plt.figure()\n",
    "plt.title('20190327_T1_Q2')\n",
    "plt.plot(time_delay, T1_integrated_output_Q2,'bo')\n",
    "plt.savefig('T1_W2-3D_HF_20190327_Q2.png', dpi=300, bbox_inches='tight')"
   ]
  },
  {
   "cell_type": "code",
   "execution_count": 165,
   "metadata": {
    "scrolled": true
   },
   "outputs": [
    {
     "name": "stdout",
     "output_type": "stream",
     "text": [
      "[[Model]]\n",
      "    Model(decay)\n",
      "[[Fit Statistics]]\n",
      "    # fitting method   = leastsq\n",
      "    # function evals   = 17\n",
      "    # data points      = 21\n",
      "    # variables        = 3\n",
      "    chi-square         = 1.3486e-04\n",
      "    reduced chi-square = 7.4924e-06\n",
      "    Akaike info crit   = -245.071246\n",
      "    Bayesian info crit = -241.937679\n",
      "[[Variables]]\n",
      "    amp:     0.46376618 +/- 0.00766960 (1.65%) (init = 0.2)\n",
      "    T1:      0.18615910 +/- 0.00362743 (1.95%) (init = 0.2)\n",
      "    offset: -0.76330820 +/- 7.4837e-04 (0.10%) (init = 1.61)\n",
      "[[Correlations]] (unreported correlations are < 0.100)\n",
      "    C(amp, T1)     = -0.837\n",
      "    C(T1, offset)  = -0.471\n",
      "    C(amp, offset) =  0.188\n",
      "\n"
     ]
    },
    {
     "data": {
      "image/png": "[encoded data removed]",
      "text/plain": [
       "<Figure size 432x288 with 1 Axes>"
      ]
     },
     "metadata": {},
     "output_type": "display_data"
    }
   ],
   "source": [
    "from lmfit import Model \n",
    "def decay(x, amp, T1,offset):\n",
    "    return amp*np.exp(-x/T1)+offset\n",
    "\n",
    "f=time_delay\n",
    "f0=np.linspace(0.1,2.1,201)\n",
    "y=T1_integrated_output_Q2\n",
    "\n",
    "gmodel = Model(decay)\n",
    "result = gmodel.fit(y,x=f,amp=0.2,T1=0.2,offset=1.61)\n",
    "\n",
    "print(result.fit_report())\n",
    "\n",
    "plt.figure()\n",
    "plt.plot(f, y, 'bo')\n",
    "plt.plot(f0, decay(f0,result.best_values['amp'],result.best_values['T1'],result.best_values['offset']), 'r-')\n",
    "plt.xlim(0, 2.2)\n",
    "plt.title('T1')\n",
    "plt.xlabel('time delay us')\n",
    "plt.ylabel('Homodyne voltage (a.u.)')\n",
    "plt.xticks(np.linspace(0.1,2.1,11))\n",
    "plt.savefig('T1_fit_W2-3D_HF_20190327_Q2.png', dpi=300, bbox_inches='tight')"
   ]
  },
  {
   "cell_type": "code",
   "execution_count": 166,
   "metadata": {},
   "outputs": [
    {
     "name": "stdout",
     "output_type": "stream",
     "text": [
      "[ 0.1  0.2  0.3  0.4  0.5  0.6  0.7  0.8  0.9  1.   1.1  1.2  1.3  1.4  1.5\n",
      "  1.6  1.7  1.8  1.9  2.   2.1]\n",
      "[ 11.86026276  11.84911392  11.84618905  11.83997575  11.84003232\n",
      "  11.83345471  11.83674593  11.834534    11.82393381  11.83182033\n",
      "  11.82673131  11.83053768  11.83367961  11.83243702  11.82935301\n",
      "  11.83022236  11.82880865  11.83289595  11.83515887  11.83826016\n",
      "  11.84093484]\n",
      "[-0.49128863 -0.60713707 -0.67014066 -0.710481   -0.73009768 -0.74416206\n",
      " -0.75002542 -0.75716364 -0.76030528 -0.75502781 -0.76319423 -0.76618258\n",
      " -0.76893011 -0.76258657 -0.76322219 -0.76191105 -0.76511265 -0.76433446\n",
      " -0.76526034 -0.75950413 -0.76129191]\n"
     ]
    }
   ],
   "source": [
    "print(time_delay)\n",
    "print(T1_integrated_output_I2)\n",
    "print(T1_integrated_output_Q2)"
   ]
  },
  {
   "cell_type": "markdown",
   "metadata": {},
   "source": [
    "# T2 measurement"
   ]
  },
  {
   "cell_type": "code",
   "execution_count": 167,
   "metadata": {},
   "outputs": [],
   "source": [
    "ATS_controller.awgcontrol(amp=1.2,seq='T2_delay_scan_FILE.seq')"
   ]
  },
  {
   "cell_type": "code",
   "execution_count": 168,
   "metadata": {},
   "outputs": [],
   "source": [
    "ATS_controller.awgstop()"
   ]
  },
  {
   "cell_type": "code",
   "execution_count": 149,
   "metadata": {
    "scrolled": true
   },
   "outputs": [
    {
     "name": "stdout",
     "output_type": "stream",
     "text": [
      "0\n",
      "1\n",
      "2\n",
      "3\n",
      "4\n",
      "5\n",
      "6\n",
      "7\n",
      "8\n",
      "9\n",
      "10\n",
      "11\n",
      "12\n",
      "13\n",
      "14\n",
      "15\n",
      "16\n",
      "17\n",
      "18\n",
      "19\n",
      "20\n",
      "21\n",
      "22\n",
      "23\n",
      "24\n",
      "25\n",
      "26\n",
      "27\n",
      "28\n",
      "29\n",
      "30\n",
      "31\n",
      "32\n",
      "33\n",
      "34\n",
      "35\n",
      "36\n",
      "37\n",
      "38\n",
      "39\n",
      "40\n",
      "41\n",
      "42\n",
      "43\n",
      "44\n",
      "45\n",
      "46\n",
      "47\n",
      "48\n",
      "49\n",
      "50\n",
      "51\n",
      "52\n",
      "53\n",
      "54\n",
      "55\n",
      "56\n",
      "57\n",
      "58\n",
      "59\n",
      "60\n",
      "61\n",
      "62\n",
      "63\n",
      "64\n",
      "65\n",
      "66\n",
      "67\n",
      "68\n",
      "69\n",
      "70\n",
      "71\n",
      "72\n",
      "73\n",
      "74\n",
      "75\n",
      "76\n",
      "77\n",
      "78\n",
      "79\n",
      "80\n",
      "81\n",
      "82\n",
      "83\n",
      "84\n",
      "85\n",
      "86\n",
      "87\n",
      "88\n",
      "89\n",
      "90\n",
      "91\n",
      "92\n",
      "93\n",
      "94\n",
      "95\n",
      "96\n",
      "97\n",
      "98\n",
      "99\n"
     ]
    }
   ],
   "source": [
    "#5-buffer measurement.2019.03.27.\n",
    "Numer_of_elements = 21\n",
    "Numer_of_avg = 300\n",
    "\n",
    "integration_start=800\n",
    "integration_time=500\n",
    "\n",
    "T2_integrated_output_I = np.zeros((Numer_of_elements))\n",
    "T2_integrated_output_Q = np.zeros((Numer_of_elements))\n",
    "\n",
    "SPEC.power.set(-10.0)\n",
    "SPEC.on()\n",
    "SPEC.IQ_state.set('ON') \n",
    "SPEC.frequency.set(6.7236e9-0.05e9)\n",
    "RFLO.on()\n",
    "RFLO.power(13.0)\n",
    "RFLO.frequency.set(6.15805e9)  \n",
    "length=100\n",
    "\n",
    "for ii in range(0,length):\n",
    "    print(ii)\n",
    "    ATS_Tempo=ATS_homodyne_acquisition_multielements(integration_start,integration_time,Numer_of_elements,Numer_of_avg)\n",
    "    for i in range(0,Numer_of_elements):\n",
    "        T2_integrated_output_I[i]=T2_integrated_output_I[i]+ATS_Tempo[0][i]\n",
    "        T2_integrated_output_Q[i]=T2_integrated_output_Q[i]+ATS_Tempo[1][i]\n",
    "\n",
    "T2_integrated_output_I = T2_integrated_output_I/length\n",
    "T2_integrated_output_Q = T2_integrated_output_Q/length"
   ]
  },
  {
   "cell_type": "code",
   "execution_count": 150,
   "metadata": {
    "scrolled": true
   },
   "outputs": [
    {
     "data": {
      "image/png": "[encoded data removed]",
      "text/plain": [
       "<Figure size 432x288 with 1 Axes>"
      ]
     },
     "metadata": {},
     "output_type": "display_data"
    },
    {
     "data": {
      "image/png": "[encoded data removed]",
      "text/plain": [
       "<Figure size 432x288 with 1 Axes>"
      ]
     },
     "metadata": {},
     "output_type": "display_data"
    }
   ],
   "source": [
    "time_delay=np.linspace(0.1,2.1,21)#us\n",
    "plt.figure()\n",
    "plt.title('20190327_T2_I')\n",
    "plt.plot(time_delay, T2_integrated_output_I,'bo')\n",
    "plt.savefig('T2_W2-3D_HF_20190327_I.png', dpi=300, bbox_inches='tight')\n",
    "\n",
    "plt.figure()\n",
    "plt.title('20190327_T2_Q')\n",
    "plt.plot(time_delay, T2_integrated_output_Q,'bo')\n",
    "plt.savefig('T2_W2-3D_HF_20190327_Q.png', dpi=300, bbox_inches='tight')"
   ]
  },
  {
   "cell_type": "code",
   "execution_count": 151,
   "metadata": {
    "scrolled": true
   },
   "outputs": [
    {
     "name": "stdout",
     "output_type": "stream",
     "text": [
      "[[Model]]\n",
      "    Model(Ramsey)\n",
      "[[Fit Statistics]]\n",
      "    # fitting method   = leastsq\n",
      "    # function evals   = 59\n",
      "    # data points      = 21\n",
      "    # variables        = 4\n",
      "    chi-square         = 6.9227e-04\n",
      "    reduced chi-square = 4.0722e-05\n",
      "    Akaike info crit   = -208.721209\n",
      "    Bayesian info crit = -204.543120\n",
      "[[Variables]]\n",
      "    amp:       0.15343596 +/- 0.01337222 (8.72%) (init = 0.2)\n",
      "    T2:        0.41607164 +/- 0.06562565 (15.77%) (init = 0.2)\n",
      "    detuning: -0.27890739 +/- 0.04448577 (15.95%) (init = 0.2)\n",
      "    offset:   -0.47213795 +/- 0.00292066 (0.62%) (init = 1.61)\n",
      "[[Correlations]] (unreported correlations are < 0.100)\n",
      "    C(amp, T2)          = -0.881\n",
      "    C(detuning, offset) = -0.844\n",
      "    C(T2, detuning)     = -0.710\n",
      "    C(amp, offset)      = -0.670\n",
      "    C(T2, offset)       =  0.657\n",
      "    C(amp, detuning)    =  0.602\n",
      "\n"
     ]
    },
    {
     "data": {
      "image/png": "[encoded data removed]",
      "text/plain": [
       "<Figure size 432x288 with 1 Axes>"
      ]
     },
     "metadata": {},
     "output_type": "display_data"
    }
   ],
   "source": [
    "from lmfit import Model \n",
    "def Ramsey(x, amp, T2, detuning, offset):\n",
    "    return amp*np.exp(-x/T2)*np.cos(2*np.pi*x*detuning)+offset\n",
    "\n",
    "t=time_delay\n",
    "t0=np.linspace(0.1,2.1,201)\n",
    "y=T2_integrated_output_Q\n",
    "\n",
    "gmodel = Model(Ramsey)\n",
    "result = gmodel.fit(y,x=t,amp=0.2,T2=0.2,detuning=0.2,offset=1.61)\n",
    "\n",
    "print(result.fit_report())\n",
    "\n",
    "plt.figure()\n",
    "plt.plot(t, y, 'bo')\n",
    "plt.plot(t0, Ramsey(f0,result.best_values['amp'],result.best_values['T2'],result.best_values['detuning'],result.best_values['offset']), 'r-')\n",
    "plt.xlim(0, 2.2)\n",
    "plt.title('T2')\n",
    "plt.xlabel('time delay us')\n",
    "plt.ylabel('Homodyne voltage (a.u.)')\n",
    "plt.xticks(np.linspace(0.1,2.1,11))\n",
    "plt.savefig('T2_fit_W2-3D_HF_20190327_Q.png', dpi=300, bbox_inches='tight')"
   ]
  },
  {
   "cell_type": "code",
   "execution_count": 169,
   "metadata": {},
   "outputs": [
    {
     "name": "stdout",
     "output_type": "stream",
     "text": [
      "[ 0.1  0.2  0.3  0.4  0.5  0.6  0.7  0.8  0.9  1.   1.1  1.2  1.3  1.4  1.5\n",
      "  1.6  1.7  1.8  1.9  2.   2.1]\n",
      "[ 11.83670709  11.84352071  11.83265859  11.83135003  11.82956271\n",
      "  11.82747794  11.83148829  11.82860409  11.82794619  11.83231153\n",
      "  11.82172287  11.82104031  11.82545347  11.83273917  11.82558409\n",
      "  11.83297794  11.82947479  11.83338561  11.82745937  11.83555613\n",
      "  11.83549816]\n",
      "[-0.351613   -0.38334562 -0.40761383 -0.43885817 -0.43600232 -0.44976427\n",
      " -0.45587403 -0.4678125  -0.47973581 -0.47764169 -0.47571904 -0.48628525\n",
      " -0.46114341 -0.47560447 -0.47910823 -0.47870993 -0.47539443 -0.47714843\n",
      " -0.47118643 -0.47263793 -0.46963127]\n"
     ]
    }
   ],
   "source": [
    "print(time_delay)\n",
    "print(T2_integrated_output_I)\n",
    "print(T2_integrated_output_Q)"
   ]
  },
  {
   "cell_type": "code",
   "execution_count": 170,
   "metadata": {
    "scrolled": true
   },
   "outputs": [
    {
     "name": "stdout",
     "output_type": "stream",
     "text": [
      "0\n",
      "1\n",
      "2\n",
      "3\n",
      "4\n",
      "5\n",
      "6\n",
      "7\n",
      "8\n",
      "9\n",
      "10\n",
      "11\n",
      "12\n",
      "13\n",
      "14\n",
      "15\n",
      "16\n",
      "17\n",
      "18\n",
      "19\n",
      "20\n",
      "21\n",
      "22\n",
      "23\n",
      "24\n",
      "25\n",
      "26\n",
      "27\n",
      "28\n",
      "29\n",
      "30\n",
      "31\n",
      "32\n",
      "33\n",
      "34\n",
      "35\n",
      "36\n",
      "37\n",
      "38\n",
      "39\n",
      "40\n",
      "41\n",
      "42\n",
      "43\n",
      "44\n",
      "45\n",
      "46\n",
      "47\n",
      "48\n",
      "49\n",
      "50\n",
      "51\n",
      "52\n",
      "53\n",
      "54\n",
      "55\n",
      "56\n",
      "57\n",
      "58\n",
      "59\n",
      "60\n",
      "61\n",
      "62\n",
      "63\n",
      "64\n",
      "65\n",
      "66\n",
      "67\n",
      "68\n",
      "69\n",
      "70\n",
      "71\n",
      "72\n",
      "73\n",
      "74\n",
      "75\n",
      "76\n",
      "77\n",
      "78\n",
      "79\n",
      "80\n",
      "81\n",
      "82\n",
      "83\n",
      "84\n",
      "85\n",
      "86\n",
      "87\n",
      "88\n",
      "89\n",
      "90\n",
      "91\n",
      "92\n",
      "93\n",
      "94\n",
      "95\n",
      "96\n",
      "97\n",
      "98\n",
      "99\n",
      "100\n",
      "101\n",
      "102\n",
      "103\n",
      "104\n",
      "105\n",
      "106\n",
      "107\n",
      "108\n",
      "109\n",
      "110\n",
      "111\n",
      "112\n",
      "113\n",
      "114\n",
      "115\n",
      "116\n",
      "117\n",
      "118\n",
      "119\n",
      "120\n",
      "121\n",
      "122\n",
      "123\n",
      "124\n",
      "125\n",
      "126\n",
      "127\n",
      "128\n",
      "129\n",
      "130\n",
      "131\n",
      "132\n",
      "133\n",
      "134\n",
      "135\n",
      "136\n",
      "137\n",
      "138\n",
      "139\n",
      "140\n",
      "141\n",
      "142\n",
      "143\n",
      "144\n",
      "145\n",
      "146\n",
      "147\n",
      "148\n",
      "149\n",
      "150\n",
      "151\n",
      "152\n",
      "153\n",
      "154\n",
      "155\n",
      "156\n",
      "157\n",
      "158\n",
      "159\n",
      "160\n",
      "161\n",
      "162\n",
      "163\n",
      "164\n",
      "165\n",
      "166\n",
      "167\n",
      "168\n",
      "169\n",
      "170\n",
      "171\n",
      "172\n",
      "173\n",
      "174\n",
      "175\n",
      "176\n",
      "177\n",
      "178\n",
      "179\n",
      "180\n",
      "181\n",
      "182\n",
      "183\n",
      "184\n",
      "185\n",
      "186\n",
      "187\n",
      "188\n",
      "189\n",
      "190\n",
      "191\n",
      "192\n",
      "193\n",
      "194\n",
      "195\n",
      "196\n",
      "197\n",
      "198\n",
      "199\n"
     ]
    }
   ],
   "source": [
    "#5-buffer measurement.2019.03.27.\n",
    "Numer_of_elements = 21\n",
    "Numer_of_avg = 300\n",
    "\n",
    "integration_start=800\n",
    "integration_time=500\n",
    "\n",
    "T2_integrated_output_I2 = np.zeros((Numer_of_elements))\n",
    "T2_integrated_output_Q2 = np.zeros((Numer_of_elements))\n",
    "\n",
    "SPEC.power.set(-10.0)\n",
    "SPEC.on()\n",
    "SPEC.IQ_state.set('ON') \n",
    "SPEC.frequency.set(6.7236e9-0.05e9)\n",
    "RFLO.on()\n",
    "RFLO.power(13.0)\n",
    "RFLO.frequency.set(6.15805e9)  \n",
    "length=200\n",
    "\n",
    "for ii in range(0,length):\n",
    "    print(ii)\n",
    "    ATS_Tempo=ATS_homodyne_acquisition_multielements(integration_start,integration_time,Numer_of_elements,Numer_of_avg)\n",
    "    for i in range(0,Numer_of_elements):\n",
    "        T2_integrated_output_I2[i]=T2_integrated_output_I2[i]+ATS_Tempo[0][i]\n",
    "        T2_integrated_output_Q2[i]=T2_integrated_output_Q2[i]+ATS_Tempo[1][i]\n",
    "\n",
    "T2_integrated_output_I2 = T2_integrated_output_I2/length\n",
    "T2_integrated_output_Q2 = T2_integrated_output_Q2/length"
   ]
  },
  {
   "cell_type": "code",
   "execution_count": 171,
   "metadata": {
    "scrolled": true
   },
   "outputs": [
    {
     "data": {
      "image/png": "[encoded data removed]",
      "text/plain": [
       "<Figure size 432x288 with 1 Axes>"
      ]
     },
     "metadata": {},
     "output_type": "display_data"
    },
    {
     "data": {
      "image/png": "[encoded data removed]",
      "text/plain": [
       "<Figure size 432x288 with 1 Axes>"
      ]
     },
     "metadata": {},
     "output_type": "display_data"
    }
   ],
   "source": [
    "time_delay=np.linspace(0.1,2.1,21)#us\n",
    "plt.figure()\n",
    "plt.title('20190327_T2_I2')\n",
    "plt.plot(time_delay, T2_integrated_output_I2,'bo')\n",
    "plt.savefig('T2_W2-3D_HF_20190327_I2.png', dpi=300, bbox_inches='tight')\n",
    "\n",
    "plt.figure()  \n",
    "plt.title('20190327_T2_Q2')\n",
    "plt.plot(time_delay, T2_integrated_output_Q2,'bo')\n",
    "plt.savefig('T2_W2-3D_HF_20190327_Q2.png', dpi=300, bbox_inches='tight')"
   ]
  },
  {
   "cell_type": "code",
   "execution_count": 184,
   "metadata": {
    "scrolled": true
   },
   "outputs": [
    {
     "name": "stdout",
     "output_type": "stream",
     "text": [
      "[[Model]]\n",
      "    Model(Ramsey)\n",
      "[[Fit Statistics]]\n",
      "    # fitting method   = leastsq\n",
      "    # function evals   = 25\n",
      "    # data points      = 21\n",
      "    # variables        = 3\n",
      "    chi-square         = 3.0051e-04\n",
      "    reduced chi-square = 1.6695e-05\n",
      "    Akaike info crit   = -228.245662\n",
      "    Bayesian info crit = -225.112095\n",
      "[[Variables]]\n",
      "    amp:     0.19207063 +/- 0.00723807 (3.77%) (init = 0.2)\n",
      "    T2:      0.28657633 +/- 0.01578204 (5.51%) (init = 0.5)\n",
      "    offset: -0.53097910 +/- 0.00132227 (0.25%) (init = 0.1)\n",
      "[[Correlations]] (unreported correlations are < 0.100)\n",
      "    C(amp, T2)     = -0.746\n",
      "    C(T2, offset)  = -0.610\n",
      "    C(amp, offset) =  0.178\n",
      "\n"
     ]
    },
    {
     "data": {
      "image/png": "[encoded data removed]",
      "text/plain": [
       "<Figure size 432x288 with 1 Axes>"
      ]
     },
     "metadata": {},
     "output_type": "display_data"
    }
   ],
   "source": [
    "from lmfit import Model \n",
    "# def Ramsey(x, amp, T2, detuning, phase, offset):\n",
    "#     return amp*np.exp(-x/T2)*np.cos(2*np.pi*x*detuning+2*np.pi*phase)+offset\n",
    "def Ramsey(x, amp, T2,offset):\n",
    "    return amp*np.exp(-x/T2)+offset\n",
    "\n",
    "t=time_delay\n",
    "t0=np.linspace(0.1,2.1,201)\n",
    "y=T2_integrated_output_Q2\n",
    "\n",
    "gmodel = Model(Ramsey)\n",
    "# result = gmodel.fit(y,x=t,amp=0.2,T2=0.4,detuning=0.1,phase=0,offset=0.1)\n",
    "result = gmodel.fit(y,x=t,amp=0.2,T2=0.5,offset=0.1)\n",
    "\n",
    "print(result.fit_report())\n",
    "\n",
    "plt.figure()\n",
    "plt.plot(t, y, 'bo')\n",
    "# plt.plot(t0, Ramsey(f0,result.best_values['amp'],result.best_values['T2'],result.best_values['detuning'],result.best_values['phase'],result.best_values['offset']), 'r-')\n",
    "plt.plot(t0, Ramsey(f0,result.best_values['amp'],result.best_values['T2'],result.best_values['offset']), 'r-')\n",
    "plt.xlim(0, 2.2)\n",
    "plt.title('T2')\n",
    "plt.xlabel('time delay us')\n",
    "plt.ylabel('Homodyne voltage (a.u.)')\n",
    "plt.xticks(np.linspace(0.1,2.1,11))\n",
    "plt.savefig('T2_fit_W2-3D_HF_20190327_Q2.png', dpi=300, bbox_inches='tight')"
   ]
  },
  {
   "cell_type": "code",
   "execution_count": 183,
   "metadata": {
    "scrolled": true
   },
   "outputs": [
    {
     "name": "stdout",
     "output_type": "stream",
     "text": [
      "[ 0.1  0.2  0.3  0.4  0.5  0.6  0.7  0.8  0.9  1.   1.1  1.2  1.3  1.4  1.5\n",
      "  1.6  1.7  1.8  1.9  2.   2.1]\n",
      "[ 11.85131956  11.84974738  11.84556023  11.83494994  11.84206896\n",
      "  11.83675133  11.83755171  11.83419973  11.8422824   11.84352178\n",
      "  11.84226931  11.83862556  11.83370818  11.83959154  11.84196097\n",
      "  11.83818233  11.83740712  11.83828512  11.84169365  11.84235805\n",
      "  11.84424996]\n",
      "[-0.39657695 -0.43563869 -0.46006018 -0.48749555 -0.4896247  -0.50800492\n",
      " -0.51879584 -0.51708944 -0.53047531 -0.52128064 -0.52981735 -0.52869213\n",
      " -0.53452811 -0.53123273 -0.52952406 -0.52592626 -0.52842831 -0.53374404\n",
      " -0.52834999 -0.52980916 -0.5258014 ]\n"
     ]
    }
   ],
   "source": [
    "print(time_delay)\n",
    "print(T2_integrated_output_I2)\n",
    "print(T2_integrated_output_Q2)"
   ]
  },
  {
   "cell_type": "markdown",
   "metadata": {},
   "source": [
    "# Multi-element Rabi oscillation"
   ]
  },
  {
   "cell_type": "code",
   "execution_count": 92,
   "metadata": {},
   "outputs": [],
   "source": [
    "ATS_controller.awgcontrol(amp=0.2,seq='rabi_sequence_int_scan_FILE.seq')"
   ]
  },
  {
   "cell_type": "code",
   "execution_count": 93,
   "metadata": {},
   "outputs": [],
   "source": [
    "ATS_controller.awgstop()"
   ]
  },
  {
   "cell_type": "code",
   "execution_count": 94,
   "metadata": {
    "scrolled": true
   },
   "outputs": [
    {
     "name": "stdout",
     "output_type": "stream",
     "text": [
      "0\n",
      "1\n",
      "2\n",
      "3\n",
      "4\n",
      "5\n",
      "6\n",
      "7\n",
      "8\n",
      "9\n",
      "10\n",
      "11\n",
      "12\n",
      "13\n",
      "14\n",
      "15\n",
      "16\n",
      "17\n",
      "18\n",
      "19\n",
      "20\n",
      "21\n",
      "22\n",
      "23\n",
      "24\n",
      "25\n",
      "26\n",
      "27\n",
      "28\n",
      "29\n",
      "30\n",
      "31\n",
      "32\n",
      "33\n",
      "34\n",
      "35\n",
      "36\n",
      "37\n",
      "38\n",
      "39\n",
      "40\n",
      "41\n",
      "42\n",
      "43\n",
      "44\n",
      "45\n",
      "46\n",
      "47\n",
      "48\n",
      "49\n",
      "50\n",
      "51\n",
      "52\n",
      "53\n",
      "54\n",
      "55\n",
      "56\n",
      "57\n",
      "58\n",
      "59\n",
      "60\n",
      "61\n",
      "62\n",
      "63\n",
      "64\n",
      "65\n",
      "66\n",
      "67\n",
      "68\n",
      "69\n",
      "70\n",
      "71\n",
      "72\n",
      "73\n",
      "74\n",
      "75\n",
      "76\n",
      "77\n",
      "78\n",
      "79\n",
      "80\n",
      "81\n",
      "82\n",
      "83\n",
      "84\n",
      "85\n",
      "86\n",
      "87\n",
      "88\n",
      "89\n",
      "90\n",
      "91\n",
      "92\n",
      "93\n",
      "94\n",
      "95\n",
      "96\n",
      "97\n",
      "98\n",
      "99\n"
     ]
    }
   ],
   "source": [
    "#5 buffer,2019.03.27.\n",
    "Numer_of_elements = 21\n",
    "Numer_of_avg = 300\n",
    "\n",
    "integration_start=800\n",
    "integration_time=500\n",
    "\n",
    "rabi_integrated_output_I = np.zeros((Numer_of_elements))\n",
    "rabi_integrated_output_Q = np.zeros((Numer_of_elements))\n",
    "\n",
    "SPEC.power.set(-16.0)\n",
    "SPEC.on()\n",
    "SPEC.IQ_state.set('ON') \n",
    "SPEC.frequency.set(6.7236e9+0.05e9)\n",
    "RFLO.on()\n",
    "RFLO.power(13.0)\n",
    "RFLO.frequency.set(6.158e9)  \n",
    "length=100\n",
    "\n",
    "for ii in range(0,length):\n",
    "    print(ii)\n",
    "    ATS_Tempo=ATS_homodyne_acquisition_multielements(integration_start,integration_time,Numer_of_elements,Numer_of_avg)\n",
    "    for i in range(0,Numer_of_elements):\n",
    "        rabi_integrated_output_I[i]=rabi_integrated_output_I[i]+ATS_Tempo[0][i]\n",
    "        rabi_integrated_output_Q[i]=rabi_integrated_output_Q[i]+ATS_Tempo[1][i]\n",
    "\n",
    "rabi_integrated_output_I = rabi_integrated_output_I/length\n",
    "rabi_integrated_output_Q = rabi_integrated_output_Q/length"
   ]
  },
  {
   "cell_type": "code",
   "execution_count": 95,
   "metadata": {},
   "outputs": [
    {
     "data": {
      "text/plain": [
       "[<matplotlib.lines.Line2D at 0x1e3f5a58>]"
      ]
     },
     "execution_count": 95,
     "metadata": {},
     "output_type": "execute_result"
    },
    {
     "data": {
      "image/png": "[encoded data removed]",
      "text/plain": [
       "<Figure size 432x288 with 1 Axes>"
      ]
     },
     "metadata": {},
     "output_type": "display_data"
    },
    {
     "data": {
      "image/png": "[encoded data removed]",
      "text/plain": [
       "<Figure size 432x288 with 1 Axes>"
      ]
     },
     "metadata": {},
     "output_type": "display_data"
    }
   ],
   "source": [
    "pulse_length=[  1.00000000e-08,   2.50000000e-08,   4.00000000e-08,\n",
    "         5.50000000e-08,   7.00000000e-08,   8.50000000e-08,\n",
    "         1.00000000e-07,   1.15000000e-07,   1.30000000e-07,\n",
    "         1.45000000e-07,   1.60000000e-07,   1.75000000e-07,\n",
    "         1.90000000e-07,   2.05000000e-07,   2.20000000e-07,\n",
    "         2.35000000e-07,   2.50000000e-07,   2.65000000e-07,\n",
    "         2.80000000e-07,   2.95000000e-07,   3.10000000e-07]\n",
    "plt.figure()\n",
    "plt.plot(pulse_length, rabi_integrated_output_I,'bo')\n",
    "plt.figure()\n",
    "plt.plot(pulse_length, rabi_integrated_output_Q,'bo')"
   ]
  },
  {
   "cell_type": "code",
   "execution_count": null,
   "metadata": {},
   "outputs": [],
   "source": []
  }
 ],
 "metadata": {
  "kernelspec": {
   "display_name": "Python 3",
   "language": "python",
   "name": "python3"
  },
  "language_info": {
   "codemirror_mode": {
    "name": "ipython",
    "version": 3
   },
   "file_extension": ".py",
   "mimetype": "text/x-python",
   "name": "python",
   "nbconvert_exporter": "python",
   "pygments_lexer": "ipython3",
   "version": "3.6.5"
  }
 },
 "nbformat": 4,
 "nbformat_minor": 2
}
