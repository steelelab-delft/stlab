{
 "cells": [
  {
   "cell_type": "code",
   "execution_count": null,
   "metadata": {
    "scrolled": true
   },
   "outputs": [],
   "source": [
    "from Initialization import *"
   ]
  },
  {
   "cell_type": "code",
   "execution_count": null,
   "metadata": {},
   "outputs": [],
   "source": [
    "station.components"
   ]
  },
  {
   "cell_type": "code",
   "execution_count": null,
   "metadata": {},
   "outputs": [],
   "source": [
    "RFLO.on()"
   ]
  },
  {
   "cell_type": "code",
   "execution_count": null,
   "metadata": {},
   "outputs": [],
   "source": [
    "SPEC.power(-5)\n",
    "SPEC.IQ_state('ON')  \n",
    "SPEC.frequency(6.16e9-0.05e9)\n",
    "SPEC.off()"
   ]
  },
  {
   "cell_type": "code",
   "execution_count": null,
   "metadata": {},
   "outputs": [],
   "source": [
    "RFLO.power(13.0)\n",
    "RFLO.frequency(6.16e9)"
   ]
  },
  {
   "cell_type": "code",
   "execution_count": null,
   "metadata": {},
   "outputs": [],
   "source": [
    "RFLO.power()"
   ]
  },
  {
   "cell_type": "code",
   "execution_count": null,
   "metadata": {},
   "outputs": [],
   "source": [
    "ATS.config(clock_source='INTERNAL_CLOCK',\n",
    "                sample_rate=1e9,\n",
    "                clock_edge='CLOCK_EDGE_RISING',\n",
    "                decimation=0,\n",
    "                coupling=['DC','DC'],\n",
    "                channel_range=[0.1,0.1],\n",
    "                impedance=[50,50],\n",
    "                bwlimit=['DISABLED','DISABLED'],\n",
    "                trigger_operation='TRIG_ENGINE_OP_J',\n",
    "                trigger_engine1='TRIG_ENGINE_J',\n",
    "                trigger_source1='EXTERNAL',\n",
    "                trigger_slope1='TRIG_SLOPE_POSITIVE',\n",
    "                trigger_level1=128,\n",
    "                trigger_engine2='TRIG_ENGINE_K',\n",
    "                trigger_source2='DISABLE',\n",
    "                trigger_slope2='TRIG_SLOPE_POSITIVE',\n",
    "                trigger_level2=128,\n",
    "                external_trigger_coupling='DC',\n",
    "                external_trigger_range='ETR_1V',\n",
    "                trigger_delay=0,\n",
    "                timeout_ticks=0\n",
    ")"
   ]
  },
  {
   "cell_type": "code",
   "execution_count": null,
   "metadata": {},
   "outputs": [],
   "source": [
    "# configure the ATS controller\n",
    "ATS_controller.update_acquisitionkwargs(#mode='NPT',\n",
    "                 samples_per_record=4096,\n",
    "                 records_per_buffer=21*300,#number of elements x average per acquisition\n",
    "                 buffers_per_acquisition=5,\n",
    "                 channel_selection='AB',\n",
    "                 transfer_offset=0,\n",
    "                 external_startcapture='ENABLED',\n",
    "                 enable_record_headers='DISABLED',\n",
    "                 alloc_buffers='DISABLED',\n",
    "                 fifo_only_streaming='DISABLED',\n",
    "                 interleave_samples='DISABLED',\n",
    "                 get_processed_data='DISABLED',\n",
    "                 allocated_buffers=5,  \n",
    "                 buffer_timeout=5000,\n",
    ")\n"
   ]
  },
  {
   "cell_type": "code",
   "execution_count": null,
   "metadata": {},
   "outputs": [],
   "source": [
    "%matplotlib inline"
   ]
  },
  {
   "cell_type": "code",
   "execution_count": null,
   "metadata": {},
   "outputs": [],
   "source": [
    "def ATS_homodyne_acquisition_multielements(integration_start, integration_time, Numer_of_elements, Numer_of_avg):\n",
    "\n",
    "    integration_end = integration_start + integration_time\n",
    "    ATS.external_trigger_coupling._set_updated()\n",
    "    ATS.external_trigger_range._set_updated()\n",
    "    \n",
    "    ATS_controller.pre_acquire()\n",
    "    blub = ATS_controller.do_acquisition()\n",
    "    ATS_controller.post_acquire()\n",
    "\n",
    "    buffer = ATS_controller.buffer\n",
    "    reshaped_buffer = buffer.reshape(2, ATS.records_per_buffer() , ATS.samples_per_record())/ATS.allocated_buffers()-128.\n",
    "\n",
    "\n",
    "# print(reshaped_buffer.flatten()[np.argsort(reshaped_buffer.flatten())[-50:]])\n",
    "# print(reshaped_buffer.flatten()[np.argsort(reshaped_buffer.flatten())[:50]])\n",
    "\n",
    "    for i in range(Numer_of_elements):\n",
    "        average_record_I[i] = np.average(reshaped_buffer[0][i::Numer_of_elements], axis = 0)\n",
    "        average_record_Q[i] = np.average(reshaped_buffer[1][i::Numer_of_elements], axis = 0)\n",
    "\n",
    "\n",
    "    offset_I=np.zeros(Numer_of_elements)\n",
    "    offset_Q=np.zeros(Numer_of_elements)\n",
    "    integrated_output_I=np.zeros(Numer_of_elements)\n",
    "    integrated_output_Q=np.zeros(Numer_of_elements)\n",
    "\n",
    "    \n",
    "    for i in range(Numer_of_elements):\n",
    "        offset_I[i] = np.average(average_record_I[i][3000:4000])\n",
    "        offset_Q[i] = np.average(average_record_Q[i][3000:4000])\n",
    "        integrated_output_I[i] = np.average(average_record_I[i][integration_start:integration_end])-offset_I[i]#/range_I\n",
    "        integrated_output_Q[i] = np.average(average_record_Q[i][integration_start:integration_end])-offset_Q[i]#/range_Q\n",
    "      \n",
    "    \n",
    "#     range_I = np.max(average_record_I[integration_start:integration_end]) \\\n",
    "#              -np.min(average_record_I[integration_start:integration_end])\n",
    "   \n",
    "#     range_Q = np.max(average_record_Q[integration_start:integration_end]) \\\n",
    "#              -np.min(average_record_Q[integration_start:integration_end])\n",
    "    \n",
    "    return [integrated_output_I, integrated_output_Q]"
   ]
  },
  {
   "cell_type": "code",
   "execution_count": null,
   "metadata": {},
   "outputs": [],
   "source": [
    "def ATS_homodyne_acquisition(integration_start, integration_time):\n",
    "    \n",
    "    integration_end = integration_start + integration_time\n",
    "    ATS.external_trigger_coupling._set_updated()\n",
    "    ATS.external_trigger_range._set_updated()\n",
    "    \n",
    "    ATS_controller.pre_acquire()\n",
    "    blub = ATS_controller.do_acquisition()\n",
    "    ATS_controller.post_acquire()\n",
    "\n",
    "    buffer = ATS_controller.buffer\n",
    "    reshaped_buffer = buffer.reshape(2, ATS.records_per_buffer(), ATS.samples_per_record())/ATS.buffers_per_acquisition()\n",
    "\n",
    "#     print(reshaped_buffer.flatten()[np.argsort(reshaped_buffer.flatten())[-50:]])\n",
    "#     print(reshaped_buffer.flatten()[np.argsort(reshaped_buffer.flatten())[:50]])\n",
    "\n",
    "    average_record_I = np.average(reshaped_buffer[0,:,:], axis = 0)-128.\n",
    "    average_record_Q = np.average(reshaped_buffer[1,:,:], axis = 0)-128.\n",
    "    \n",
    "    offset_I = np.average(average_record_I[3000:4000])\n",
    "    offset_Q = np.average(average_record_Q[3000:4000])\n",
    "    \n",
    "#     range_I = np.max(average_record_I[integration_start:integration_end]) \\\n",
    "#              -np.min(average_record_I[integration_start:integration_end])\n",
    "   \n",
    "#     range_Q = np.max(average_record_Q[integration_start:integration_end]) \\\n",
    "#              -np.min(average_record_Q[integration_start:integration_end])\n",
    "    \n",
    "#     integrated_output_I = np.average(average_record_I[integration_start:integration_end])#/range_I\n",
    "#     integrated_output_Q = np.average(average_record_Q[integration_start:integration_end])#/range_Q\n",
    "    \n",
    "    \n",
    "    integrated_output_I = np.average(average_record_I[integration_start:integration_end]-offset_I)#/range_I\n",
    "    integrated_output_Q = np.average(average_record_Q[integration_start:integration_end]-offset_Q)#/range_Q\n",
    "    \n",
    "    return [integrated_output_I, integrated_output_Q, offset_I, offset_Q]"
   ]
  },
  {
   "cell_type": "code",
   "execution_count": null,
   "metadata": {
    "scrolled": true
   },
   "outputs": [],
   "source": [
    "integration_start=674\n",
    "integration_end=integration_start+1000\n",
    "\n",
    "RFLO.frequency(6.157e9)\n",
    "SPEC.frequency(6.157e9+0.05e9)\n",
    "SPEC.power(0)\n",
    "SPEC.off()\n",
    "ATS.external_trigger_coupling._set_updated()\n",
    "ATS.external_trigger_range._set_updated()\n",
    "RFLO.on()\n",
    "Numer_of_elements = 21\n",
    "Numer_of_avg = 300\n",
    "\n",
    "ATS_controller.awgcontrol(amp=1.0,seq='rabi_sequence_amp_scan_FILE.seq')\n",
    "\n",
    "ATS_controller.pre_acquire()\n",
    "ATS_controller.do_acquisition()\n",
    "ATS_controller.post_acquire()\n",
    "\n",
    "buffer = ATS_controller.buffer\n",
    "reshaped_buffer = buffer.reshape(2, Numer_of_avg, Numer_of_elements , ATS.samples_per_record())/ATS.allocated_buffers()-128.\n",
    "\n",
    "# print(reshaped_buffer.flatten()[np.argsort(reshaped_buffer.flatten())[-50:]])\n",
    "# print(reshaped_buffer.flatten()[np.argsort(reshaped_buffer.flatten())[:50]])\n",
    "\n",
    "offset_I=np.zeros(Numer_of_elements)\n",
    "offset_Q=np.zeros(Numer_of_elements)\n",
    "integrated_output_I=np.zeros(Numer_of_elements)\n",
    "integrated_output_Q=np.zeros(Numer_of_elements)\n",
    "\n",
    "for i in range(Numer_of_elements):\n",
    "    average_record_I = np.average(reshaped_buffer[0][:,:,:], axis = 0)\n",
    "    average_record_Q = np.average(reshaped_buffer[1][:,:,:], axis = 0)\n",
    "\n",
    "    \n",
    "for i in range(Numer_of_elements):\n",
    "    offset_I[i] = np.average(average_record_I[i][3000:4000])\n",
    "    offset_Q[i] = np.average(average_record_Q[i][3000:4000])\n",
    "    integrated_output_I[i] = np.average(average_record_I[i][integration_start:integration_end])-offset_I[i]#/range_I\n",
    "    integrated_output_Q[i] = np.average(average_record_Q[i][integration_start:integration_end])-offset_Q[i]#/range_Q\n",
    "\n",
    "\n",
    "# integrated_output_power = np.average((average_record_I[integration_start:integration_end]\n",
    "#                                      +average_record_Q[integration_start:integration_end])**2)\n",
    "# integrated_output_power = np.average(((average_record_I[integration_start:integration_end])**2\n",
    "#                                      +(average_record_Q[integration_start:integration_end])**2))**0.5\n",
    "\n",
    "print(integrated_output_I[2])\n",
    "print(integrated_output_Q[2])\n",
    "\n",
    "\n",
    "plt.figure(figsize=(10,10))\n",
    "plt.plot(average_record_I[0])\n",
    "plt.plot(average_record_Q[0])\n",
    "plt.xlim(0, 4000)\n",
    "\n",
    "plt.figure(figsize=(10,10))\n",
    "plt.plot(average_record_I[10])\n",
    "plt.plot(average_record_Q[10])\n",
    "plt.xlim(0, 4000)\n",
    "\n",
    "plt.figure(figsize=(10,10))\n",
    "plt.plot(average_record_I[20])\n",
    "plt.plot(average_record_Q[20])\n",
    "plt.xlim(0, 4000)"
   ]
  },
  {
   "cell_type": "markdown",
   "metadata": {},
   "source": [
    "# Drive Chevron"
   ]
  },
  {
   "cell_type": "code",
   "execution_count": null,
   "metadata": {},
   "outputs": [],
   "source": [
    "import stlab\n",
    "import stlabutils"
   ]
  },
  {
   "cell_type": "code",
   "execution_count": null,
   "metadata": {},
   "outputs": [],
   "source": [
    "ATS_controller.awgcontrol(amp=1.0,seq='drive_chevron_FILE.seq')\n",
    "ATS_controller.awgstop()"
   ]
  },
  {
   "cell_type": "code",
   "execution_count": null,
   "metadata": {},
   "outputs": [],
   "source": [
    "prefix = 'B'\n",
    "idstring = 'Drive_chevron_awgamp='\n",
    "myfile = stlab.newfile(prefix, idstring, autoindex=True)\n",
    "\n",
    "Numer_of_elements = 23\n",
    "Numer_of_avg = 300\n",
    "\n",
    "integration_start=700\n",
    "integration_time=500\n",
    "pulse_length=[  1.00000000e-08,   2.50000000e-08,   4.00000000e-08,\n",
    "         5.50000000e-08,   7.00000000e-08,   8.50000000e-08,\n",
    "         1.00000000e-07,   1.15000000e-07,   1.30000000e-07,\n",
    "         1.45000000e-07,   1.60000000e-07,   1.75000000e-07,\n",
    "         1.90000000e-07,   2.05000000e-07,   2.20000000e-07,\n",
    "         2.35000000e-07,   2.50000000e-07,   2.65000000e-07,\n",
    "         2.80000000e-07,   2.95000000e-07,   3.10000000e-07,3.25000000e-07,3.40000000e-07]\n",
    "#for pulse length, refer to sequence file creating script.\n",
    "#last two points are allocated as calibration points. length thus has no physical meaning.\n",
    "\n",
    "SPEC.power.set(-10.0)\n",
    "SPEC.on()\n",
    "SPEC.IQ_state.set('ON') \n",
    "spec_frequencies = np.linspace(6.658e9-0.4e9, 6.658e9+0.2e+9,101)\n",
    "RFLO.on()\n",
    "RFLO.power(13.0)\n",
    "RFLO.frequency.set(6.158e9)  \n",
    "avg=500\n",
    "\n",
    "for iii, freq in enumerate(spec_frequencies):\n",
    "    rabi_integrated_output = []\n",
    "    SPEC.frequency.set(freq+0.05e9)\n",
    "    for ii in range(0,avg):\n",
    "        print(ii)\n",
    "        for i, amp in enumerate(amps):\n",
    "            ATS.clear_buffers()\n",
    "            AWG.ch1_amp(amp)\n",
    "            AWG.ch2_amp(amp)\n",
    "            rabi_integrated_output.appe nd(ATS_homodyne_acquisition(700,500))\n",
    "    rabi_integrated_output = np.array(rabi_integrated_output)\n",
    "    data_I =np.mean(rabi_integrated_output[:,0].reshape(avg,steps),axis=0)\n",
    "    data_Q =np.mean(rabi_integrated_output[:,1].reshape(avg,steps),axis=0)\n",
    "\n",
    "    data = pd.DataFrame({'freq (Hz)':spec_frequencies,'I ()':data_I,'Q ()': data_Q, \n",
    "                     'SPEC':SPEC.power(),\n",
    "                     'RF_freq' : RFLO.frequency(), \n",
    "                     'RF_power':RFLO.power(),'Number of avg':avg*ATS.records_per_buffer()/Number_of_elements,\n",
    "                     'allocated_buffer':ATS.allocated_buffers()})\n",
    "    data['drive frequence (Hz)'] = freq\n",
    "    stlabutils.saveframe(myfile,data)  #Save measured data to file.  Written as a block for spyview.\n",
    "    #Create metafile for spyview at each measurement step\n",
    "    stlabutils.metagen.fromarrays(\n",
    "        myfile,\n",
    "        data['Pulse length (s)'],\n",
    "        freq[0:iii+1],\n",
    "        xtitle='Pulse length (s)',\n",
    "        ytitle='freq (dBm)',\n",
    "        colnames=list(data))\n",
    "myfile.close()\n"
   ]
  },
  {
   "cell_type": "markdown",
   "metadata": {},
   "source": [
    "# Chevron analysis"
   ]
  },
  {
   "cell_type": "code",
   "execution_count": null,
   "metadata": {},
   "outputs": [],
   "source": [
    "from lmfit import Model \n",
    "def Rabi(x,amp,omega,offset):\n",
    "    return amp*exp(-x/T)*np.cos(2*np.pi*x/omega)+offset\n",
    "\n",
    "yi=data_I\n",
    "yq=data_Q\n",
    "\n",
    "f=pulse_length\n",
    "f0=np.arange(1e-08,3.15e-08,1e-9)\n",
    "\n",
    "foldername = ''\n",
    "filepath = foldername+'/'+foldername+'.dat'\n",
    "mydata = stlabutils.readdata.readdat(filepath)\n",
    "ii = 0\n",
    "block = mydata[ii]\n",
    "yi=block['I ()']\n",
    "yq=block['Q ()']\n",
    "\n",
    "gmodel = Model(Rabi)\n",
    "result_i = gmodel.fit(yi,x=f,amp=0.2,T=3e-6,offset=0.0)\n",
    "result_q = gmodel.fit(yq,x=f,amp=0.2,T=3e-6,offset=0.0)\n",
    "\n",
    "print(result_i.fit_report())\n",
    "print(result_q.fit_report())\n",
    "\n",
    "plt.figure()\n",
    "plt.plot(f, yi, 'bo')\n",
    "plt.plot(f0, Rabi(f0,result1.best_values['amp'],result1.best_values['T'],result1.best_values['omega'],result1.best_values['offset']), 'r-')\n",
    "plt.title('chevron cross section I')\n",
    "plt.xlabel('AWG amp (a.u.)')\n",
    "plt.ylabel('Homodyne voltage (a.u.) ')\n",
    "plt.text(1,0, r'T1=%s'%result_i.best_values['omega'], fontsize=12)\n",
    "plt.savefig('Chevron_I_fit.png', dpi=300, bbox_inches='tight')\n",
    "\n",
    "plt.figure()\n",
    "plt.plot(f, yq, 'bo')\n",
    "plt.plot(f0, Rabi(f0,result2.best_values['amp'],result2.best_values['T'],result2.best_values['omega'],result2.best_values['offset']), 'r-')\n",
    "plt.title('chevron cross section I')\n",
    "plt.xlabel('AWG amp (a.u.)')\n",
    "plt.ylabel('Homodyne voltage (a.u.)')\n",
    "plt.text(1,0, r'T1=%s'%result_q.best_values['omega'], fontsize=12)\n",
    "plt.savefig('Rabi_measure_Q_fit.png', dpi=300, bbox_inches='tight')"
   ]
  }
 ],
 "metadata": {
  "kernelspec": {
   "display_name": "Python 3",
   "language": "python",
   "name": "python3"
  },
  "language_info": {
   "codemirror_mode": {
    "name": "ipython",
    "version": 3
   },
   "file_extension": ".py",
   "mimetype": "text/x-python",
   "name": "python",
   "nbconvert_exporter": "python",
   "pygments_lexer": "ipython3",
   "version": "3.6.5"
  },
  "toc": {
   "base_numbering": 1,
   "nav_menu": {},
   "number_sections": true,
   "sideBar": true,
   "skip_h1_title": false,
   "title_cell": "Table of Contents",
   "title_sidebar": "Contents",
   "toc_cell": false,
   "toc_position": {},
   "toc_section_display": true,
   "toc_window_display": false
  },
  "varInspector": {
   "cols": {
    "lenName": 16,
    "lenType": 16,
    "lenVar": 40
   },
   "kernels_config": {
    "python": {
     "delete_cmd_postfix": "",
     "delete_cmd_prefix": "del ",
     "library": "var_list.py",
     "varRefreshCmd": "print(var_dic_list())"
    },
    "r": {
     "delete_cmd_postfix": ") ",
     "delete_cmd_prefix": "rm(",
     "library": "var_list.r",
     "varRefreshCmd": "cat(var_dic_list()) "
    }
   },
   "types_to_exclude": [
    "module",
    "function",
    "builtin_function_or_method",
    "instance",
    "_Feature"
   ],
   "window_display": false
  }
 },
 "nbformat": 4,
 "nbformat_minor": 2
}
