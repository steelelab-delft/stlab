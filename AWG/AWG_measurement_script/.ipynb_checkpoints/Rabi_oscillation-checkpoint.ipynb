{
 "cells": [
  {
   "cell_type": "code",
   "execution_count": 1,
   "metadata": {
    "scrolled": true
   },
   "outputs": [
    {
     "name": "stdout",
     "output_type": "stream",
     "text": [
      "c:\\libs\\pycqed_py3\\data\n",
      "Data directory set to: c:\\libs\\pycqed_py3\\data\n",
      "c:\\libs\\pycqed_py3\\data\n",
      "Connected to: Agilent Technologies N5183B (serial:MY53271678, firmware:B.01.60) in 0.23s\n",
      "Connected to: Rohde&Schwarz SGS100A (serial:1416.0505k02/101645, firmware:3.1.19.15-3.50.124.67) in 0.03s\n",
      "Connected to: SONY/TEK AWG520 (serial:0, firmware:SCPI:95.0 OS:1.0 USR:1.3a) in 0.13s\n"
     ]
    },
    {
     "name": "stderr",
     "output_type": "stream",
     "text": [
      "C:\\ProgramData\\Anaconda3\\lib\\site-packages\\pyvisa\\resources\\messagebased.py:568: FutureWarning:\n",
      "\n",
      "ask is deprecated and will be removed in 1.10, use query instead.\n",
      "\n",
      "c:\\libs\\qcodes\\qcodes\\instrument\\parameter.py:247: UserWarning:\n",
      "\n",
      "Wrapping get method, original get method will not be directly accessible. It is recommended to define get_raw in your subclass instead.\n",
      "\n",
      "Snapshot: Could not update parameter: clock_source on ATS\n",
      "Snapshot: Could not update parameter: sample_rate on ATS\n",
      "Snapshot: Could not update parameter: clock_edge on ATS\n",
      "Snapshot: Could not update parameter: decimation on ATS\n",
      "Snapshot: Could not update parameter: coupling1 on ATS\n",
      "Snapshot: Could not update parameter: channel_range1 on ATS\n",
      "Snapshot: Could not update parameter: impedance1 on ATS\n",
      "Snapshot: Could not update parameter: bwlimit1 on ATS\n",
      "Snapshot: Could not update parameter: coupling2 on ATS\n",
      "Snapshot: Could not update parameter: channel_range2 on ATS\n",
      "Snapshot: Could not update parameter: impedance2 on ATS\n",
      "Snapshot: Could not update parameter: bwlimit2 on ATS\n",
      "Snapshot: Could not update parameter: trigger_operation on ATS\n",
      "Snapshot: Could not update parameter: trigger_engine1 on ATS\n",
      "Snapshot: Could not update parameter: trigger_source1 on ATS\n",
      "Snapshot: Could not update parameter: trigger_slope1 on ATS\n",
      "Snapshot: Could not update parameter: trigger_level1 on ATS\n",
      "Snapshot: Could not update parameter: trigger_engine2 on ATS\n",
      "Snapshot: Could not update parameter: trigger_source2 on ATS\n",
      "Snapshot: Could not update parameter: trigger_slope2 on ATS\n",
      "Snapshot: Could not update parameter: trigger_level2 on ATS\n",
      "Snapshot: Could not update parameter: external_trigger_coupling on ATS\n",
      "Snapshot: Could not update parameter: external_trigger_range on ATS\n",
      "Snapshot: Could not update parameter: trigger_delay on ATS\n",
      "Snapshot: Could not update parameter: timeout_ticks on ATS\n",
      "Snapshot: Could not update parameter: mode on ATS\n",
      "Snapshot: Could not update parameter: samples_per_record on ATS\n",
      "Snapshot: Could not update parameter: records_per_buffer on ATS\n",
      "Snapshot: Could not update parameter: buffers_per_acquisition on ATS\n",
      "Snapshot: Could not update parameter: channel_selection on ATS\n",
      "Snapshot: Could not update parameter: transfer_offset on ATS\n",
      "Snapshot: Could not update parameter: external_startcapture on ATS\n",
      "Snapshot: Could not update parameter: enable_record_headers on ATS\n",
      "Snapshot: Could not update parameter: alloc_buffers on ATS\n",
      "Snapshot: Could not update parameter: fifo_only_streaming on ATS\n",
      "Snapshot: Could not update parameter: interleave_samples on ATS\n",
      "Snapshot: Could not update parameter: get_processed_data on ATS\n",
      "Snapshot: Could not update parameter: allocated_buffers on ATS\n",
      "Snapshot: Could not update parameter: buffer_timeout on ATS\n",
      "Snapshot: Could not update parameter: acquisition on ATS_controller\n",
      "f_RO_mod between RF and LO is not set correctly\n",
      "\tf_RO_mod = 10000000.0, LO_freq = 4990000000.0, RF_freq = 4990000000.0\n",
      "Heterodyne frequency does not match RF frequency\n",
      "f_RO_mod between RF and LO is not set correctly\n",
      "\tf_RO_mod = 10000000.0, LO_freq = 4990000000.0, RF_freq = 4990000000.0\n"
     ]
    },
    {
     "name": "stdout",
     "output_type": "stream",
     "text": [
      "controller initialized\n"
     ]
    }
   ],
   "source": [
    "from Initialization import *"
   ]
  },
  {
   "cell_type": "code",
   "execution_count": 2,
   "metadata": {},
   "outputs": [
    {
     "data": {
      "text/plain": [
       "{'RFLO': <N51x1: RFLO>,\n",
       " 'SPEC': <RohdeSchwarz_SGS100A: SPEC>,\n",
       " 'AWG': <Tektronix_AWG520: AWG>,\n",
       " 'ATS': <AlazarTech_ATS9870: ATS>,\n",
       " 'ATS_controller': <Demodulation_AcquisitionController: ATS_controller>,\n",
       " 'HS': <HeterodyneInstrument: HS>,\n",
       " 'MC': <MeasurementControl: MC>}"
      ]
     },
     "execution_count": 2,
     "metadata": {},
     "output_type": "execute_result"
    }
   ],
   "source": [
    "station.components"
   ]
  },
  {
   "cell_type": "code",
   "execution_count": 3,
   "metadata": {},
   "outputs": [],
   "source": [
    "RFLO.on()"
   ]
  },
  {
   "cell_type": "code",
   "execution_count": 4,
   "metadata": {},
   "outputs": [],
   "source": [
    "SPEC.power(-5)\n",
    "SPEC.IQ_state('ON')  \n",
    "SPEC.frequency(6.16e9-0.05e9)\n",
    "SPEC.off()"
   ]
  },
  {
   "cell_type": "code",
   "execution_count": 5,
   "metadata": {},
   "outputs": [],
   "source": [
    "RFLO.power(13.0)\n",
    "RFLO.frequency(6.16e9)"
   ]
  },
  {
   "cell_type": "code",
   "execution_count": 6,
   "metadata": {},
   "outputs": [
    {
     "data": {
      "text/plain": [
       "13.0"
      ]
     },
     "execution_count": 6,
     "metadata": {},
     "output_type": "execute_result"
    }
   ],
   "source": [
    "RFLO.power()"
   ]
  },
  {
   "cell_type": "code",
   "execution_count": 20,
   "metadata": {},
   "outputs": [],
   "source": [
    "ATS.config(clock_source='INTERNAL_CLOCK',\n",
    "                sample_rate=1e9,\n",
    "                clock_edge='CLOCK_EDGE_RISING',\n",
    "                decimation=0,\n",
    "                coupling=['DC','DC'],\n",
    "                channel_range=[0.1,0.1],\n",
    "                impedance=[50,50],\n",
    "                bwlimit=['DISABLED','DISABLED'],\n",
    "                trigger_operation='TRIG_ENGINE_OP_J',\n",
    "                trigger_engine1='TRIG_ENGINE_J',\n",
    "                trigger_source1='EXTERNAL',\n",
    "                trigger_slope1='TRIG_SLOPE_POSITIVE',\n",
    "                trigger_level1=128,\n",
    "                trigger_engine2='TRIG_ENGINE_K',\n",
    "                trigger_source2='DISABLE',\n",
    "                trigger_slope2='TRIG_SLOPE_POSITIVE',\n",
    "                trigger_level2=128,\n",
    "                external_trigger_coupling='DC',\n",
    "                external_trigger_range='ETR_1V',\n",
    "                trigger_delay=0,\n",
    "                timeout_ticks=0\n",
    ")"
   ]
  },
  {
   "cell_type": "code",
   "execution_count": 12,
   "metadata": {},
   "outputs": [],
   "source": [
    "# configure the ATS controller\n",
    "ATS_controller.update_acquisitionkwargs(#mode='NPT',\n",
    "                 samples_per_record=4096,\n",
    "                 records_per_buffer=4000,#number of elements x average per acquisition\n",
    "                 buffers_per_acquisition=1,\n",
    "                 channel_selection='AB',\n",
    "                 transfer_offset=0,\n",
    "                 external_startcapture='ENABLED',\n",
    "                 enable_record_headers='DISABLED',\n",
    "                 alloc_buffers='DISABLED',\n",
    "                 fifo_only_streaming='DISABLED',\n",
    "                 interleave_samples='DISABLED',\n",
    "                 get_processed_data='DISABLED',\n",
    "                 allocated_buffers=1,  \n",
    "                 buffer_timeout=5000,\n",
    ")\n"
   ]
  },
  {
   "cell_type": "code",
   "execution_count": null,
   "metadata": {},
   "outputs": [],
   "source": [
    "%matplotlib inline"
   ]
  },
  {
   "cell_type": "code",
   "execution_count": 9,
   "metadata": {},
   "outputs": [],
   "source": [
    "def ATS_homodyne_acquisition(integration_start, integration_time):\n",
    "    \n",
    "    integration_end = integration_start + integration_time\n",
    "    ATS.external_trigger_coupling._set_updated()\n",
    "    ATS.external_trigger_range._set_updated()\n",
    "    \n",
    "    ATS_controller.pre_acquire()\n",
    "    blub = ATS_controller.do_acquisition()\n",
    "    ATS_controller.post_acquire()\n",
    "\n",
    "    buffer = ATS_controller.buffer\n",
    "    reshaped_buffer = buffer.reshape(2, ATS.records_per_buffer(), ATS.samples_per_record())/ATS.buffers_per_acquisition()\n",
    "\n",
    "#     print(reshaped_buffer.flatten()[np.argsort(reshaped_buffer.flatten())[-50:]])\n",
    "#     print(reshaped_buffer.flatten()[np.argsort(reshaped_buffer.flatten())[:50]])\n",
    "\n",
    "    average_record_I = np.average(reshaped_buffer[0,:,:], axis = 0)-128.\n",
    "    average_record_Q = np.average(reshaped_buffer[1,:,:], axis = 0)-128.\n",
    "    \n",
    "    offset_I = np.average(average_record_I[3000:4000])\n",
    "    offset_Q = np.average(average_record_Q[3000:4000])\n",
    "    \n",
    "#     range_I = np.max(average_record_I[integration_start:integration_end]) \\\n",
    "#              -np.min(average_record_I[integration_start:integration_end])\n",
    "   \n",
    "#     range_Q = np.max(average_record_Q[integration_start:integration_end]) \\\n",
    "#              -np.min(average_record_Q[integration_start:integration_end])\n",
    "    \n",
    "#     integrated_output_I = np.average(average_record_I[integration_start:integration_end])#/range_I\n",
    "#     integrated_output_Q = np.average(average_record_Q[integration_start:integration_end])#/range_Q\n",
    "    \n",
    "    \n",
    "    integrated_output_I = np.average(average_record_I[integration_start:integration_end]-offset_I)#/range_I\n",
    "    integrated_output_Q = np.average(average_record_Q[integration_start:integration_end]-offset_Q)#/range_Q\n",
    "    \n",
    "    return [integrated_output_I, integrated_output_Q, offset_I, offset_Q]"
   ]
  },
  {
   "cell_type": "code",
   "execution_count": 21,
   "metadata": {
    "scrolled": true
   },
   "outputs": [
    {
     "data": {
      "text/plain": [
       "[3.9320789999999981,\n",
       " -0.62793925000000494,\n",
       " -88.002083499999998,\n",
       " -47.880954249999995]"
      ]
     },
     "execution_count": 21,
     "metadata": {},
     "output_type": "execute_result"
    },
    {
     "data": {
      "image/png": "[encoded data removed]",
      "text/plain": [
       "<Figure size 720x720 with 1 Axes>"
      ]
     },
     "metadata": {},
     "output_type": "display_data"
    }
   ],
   "source": [
    "integration_start=800\n",
    "integration_end=integration_start+500\n",
    "AWG.set_sequence('rabi_sequence_FILE.seq')\n",
    "AWG.ch1_amp(1.0)\n",
    "AWG.ch2_amp(1.0)\n",
    "RFLO.frequency(6.158e9)\n",
    "SPEC.frequency(5.2737e9+0.05e9)  \n",
    "SPEC.power(10)\n",
    "RFLO.power(13)\n",
    "RFLO.on()\n",
    "SPEC.off()\n",
    "SPEC.IQ_state.set('ON')\n",
    "ATS.external_trigger_coupling._set_updated()\n",
    "ATS.external_trigger_range._set_updated()\n",
    "\n",
    "ATS_controller.pre_acquire()\n",
    "blub = ATS_controller.do_acquisition()\n",
    "ATS_controller.post_acquire()\n",
    "\n",
    "buffer = ATS_controller.buffer\n",
    "reshaped_buffer = buffer.reshape(2, ATS.records_per_buffer(),ATS.samples_per_record())/ATS.allocated_buffers()\n",
    "\n",
    "# reshaped_buffer = buffer.reshape(2, ATS.records_per_buffer(), ATS.samples_per_record())/ATS.allocated_buffers()-128.\n",
    "\n",
    "# print(reshaped_buffer.flatten()[np.argsort(reshaped_buffer.flatten())[-50:]])\n",
    "# print(reshaped_buffer.flatten()[np.argsort(reshaped_b uffer.flatten())[:50]])\n",
    "\n",
    "average_record_I = np.average(reshaped_buffer[0,:,:], axis = 0)-128.\n",
    "average_record_Q = np.average(reshaped_buffer[1,:,:], axis = 0)-128.\n",
    "\n",
    "# integrated_output_power = np.average((average_record_I[integration_start:integration_end]\n",
    "#                                      +average_record_Q[integration_start:integration_end])**2)\n",
    "# integrated_output_power = np.average(((average_record_I[integration_start:integration_end])**2\n",
    "#                                      +(average_record_Q[integration_start:integration_end])**2))**0.5\n",
    "\n",
    "\n",
    "plt.figure(figsize=(10,10))\n",
    "plt.plot(average_record_I)\n",
    "plt.plot(average_record_Q)\n",
    "# plt.plot((average_record_Q**2+average_record_I**2)**0.5)\n",
    "plt.xlim(0,4000)\n",
    "ATS_homodyne_acquisition(800,500)"
   ]
  },
  {
   "cell_type": "markdown",
   "metadata": {},
   "source": [
    "# Single element Rabi freq sweep"
   ]
  },
  {
   "cell_type": "code",
   "execution_count": 33,
   "metadata": {},
   "outputs": [
    {
     "name": "stdout",
     "output_type": "stream",
     "text": [
      "None\n",
      "B10_2019_05_11_21.26.01_Rabi_spec_-13dBm_freq_sweep\n",
      "B10_2019_05_11_21.26.01_Rabi_spec_-13dBm_freq_sweep\\B10_2019_05_11_21.26.01_Rabi_spec_-13dBm_freq_sweep.dat\n",
      "Measurement Name:  B10_2019_05_11_21.26.01_Rabi_spec_-13dBm_freq_sweep\n",
      "metagen.fromarrays: Warning, equal values for ymin and ymax. Correcting\n"
     ]
    }
   ],
   "source": [
    "prefix = 'B'\n",
    "idstring = 'Rabi_spec_-13dBm_freq_sweep'\n",
    "myfile = stlab.newfile(prefix, idstring, autoindex=True)\n",
    "\n",
    "AWG.set_sequence('rabi_sequence_FILE.seq')\n",
    "amps = np.arange(0.05,2.0,0.1)\n",
    "spec_frequencies = np.linspace(6.658e9-0.4e9, 6.658e9+0.2e+9,21)\n",
    "steps=len(amps)\n",
    "SPEC.power.set(-13.0)\n",
    "SPEC.on()\n",
    "SPEC.IQ_state.set('ON') \n",
    "RFLO.on()\n",
    "RFLO.power(13.0)\n",
    "RFLO.frequency.set(6.158e9)  \n",
    "avg=25\n",
    "\n",
    "for iii, freq in enumerate(spec_frequencies):\n",
    "    rabi_integrated_output = []\n",
    "    SPEC.frequency.set(freq+0.05e9)\n",
    "    for ii in range(0,avg):\n",
    "        for i, amp in enumerate(amps):\n",
    "            ATS.clear_buffers()\n",
    "            AWG.ch1_amp(amp)\n",
    "            AWG.ch2_amp(amp)\n",
    "            rabi_integrated_output.append(ATS_homodyne_acquisition(700,1000))\n",
    "    rabi_integrated_output = np.array(rabi_integrated_output)\n",
    "    data_I =np.mean(rabi_integrated_output[:,0].reshape(avg,steps),axis=0)\n",
    "    data_Q =np.mean(rabi_integrated_output[:,1].reshape(avg,steps),axis=0)\n",
    "\n",
    "    data = pd.DataFrame({'AWG Amp (a.u.)':amps,'I ()':data_I,'Q ()': data_Q, 'RF_freq' : RFLO.frequency() , 'RF_power':RFLO.power(),'Spec_power':Spec.power()})\n",
    "    data['drive frequence (Hz)'] = freq\n",
    "    stlabutils.saveframe(myfile,data)  #Save measured data to file.  Written as a block for spyview.\n",
    "    #Create metafile for spyview at each measurement step\n",
    "    stlabutils.metagen.fromarrays(\n",
    "        myfile,\n",
    "        data['AWG Amp (a.u.)'],\n",
    "        spec_frequencies[0:iii+1],\n",
    "        xtitle='AWG Amp (a.u.)',\n",
    "        ytitle='freq (dBm)',\n",
    "        colnames=list(data))\n",
    "myfile.close()"
   ]
  },
  {
   "cell_type": "code",
   "execution_count": null,
   "metadata": {},
   "outputs": [],
   "source": []
  }
 ],
 "metadata": {
  "kernelspec": {
   "display_name": "Python 3",
   "language": "python",
   "name": "python3"
  },
  "language_info": {
   "codemirror_mode": {
    "name": "ipython",
    "version": 3
   },
   "file_extension": ".py",
   "mimetype": "text/x-python",
   "name": "python",
   "nbconvert_exporter": "python",
   "pygments_lexer": "ipython3",
   "version": "3.6.5"
  },
  "toc": {
   "base_numbering": 1,
   "nav_menu": {},
   "number_sections": true,
   "sideBar": true,
   "skip_h1_title": false,
   "title_cell": "Table of Contents",
   "title_sidebar": "Contents",
   "toc_cell": false,
   "toc_position": {},
   "toc_section_display": true,
   "toc_window_display": false
  },
  "varInspector": {
   "cols": {
    "lenName": 16,
    "lenType": 16,
    "lenVar": 40
   },
   "kernels_config": {
    "python": {
     "delete_cmd_postfix": "",
     "delete_cmd_prefix": "del ",
     "library": "var_list.py",
     "varRefreshCmd": "print(var_dic_list())"
    },
    "r": {
     "delete_cmd_postfix": ") ",
     "delete_cmd_prefix": "rm(",
     "library": "var_list.r",
     "varRefreshCmd": "cat(var_dic_list()) "
    }
   },
   "types_to_exclude": [
    "module",
    "function",
    "builtin_function_or_method",
    "instance",
    "_Feature"
   ],
   "window_display": false
  }
 },
 "nbformat": 4,
 "nbformat_minor": 2
}
